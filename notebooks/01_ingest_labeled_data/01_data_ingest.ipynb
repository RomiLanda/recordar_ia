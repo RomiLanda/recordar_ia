{
 "cells": [
  {
   "cell_type": "code",
   "execution_count": null,
   "id": "2d0fba34-2269-4ccd-94ff-c8e210b70008",
   "metadata": {},
   "outputs": [],
   "source": [
    "import pandas as pd\n",
    "import json\n",
    "import os\n",
    "from base64 import b64encode, b64decode\n",
    "import matplotlib.pyplot as plt\n",
    "import cv2"
   ]
  },
  {
   "cell_type": "markdown",
   "id": "2d877912-b337-4d6e-a0bf-434ceaacc174",
   "metadata": {},
   "source": [
    "# Dataset ingest"
   ]
  },
  {
   "cell_type": "code",
   "execution_count": null,
   "id": "e85452e3-a1d4-44aa-84fc-976a52a56bb5",
   "metadata": {},
   "outputs": [],
   "source": [
    "class Caja(object):\n",
    "    \"\"\"Clase que define la estructura de datos del segmento etiquetado (bounding-box) como unidad.\"\"\"\n",
    "    def __init__(self, archivo, bounding_box, etiqueta, contenido):\n",
    "        self.file = archivo\n",
    "        self.x_1 = bounding_box['x']\n",
    "        self.y_1 = bounding_box['y']\n",
    "        self.x_2 = bounding_box['x'] + bounding_box['w'] \n",
    "        self.y_2 = bounding_box['y'] + bounding_box['h']\n",
    "        self.content = contenido\n",
    "        self.label = etiqueta\n",
    "        \n",
    "    def to_json(self):\n",
    "        return self.__dict__\n",
    "    \n",
    "    def to_pd_series(self):\n",
    "        return pd.Series(self.__dict__)"
   ]
  },
  {
   "cell_type": "code",
   "execution_count": null,
   "id": "6d852352-7263-478a-9c8c-bc5ac687f422",
   "metadata": {},
   "outputs": [],
   "source": [
    "def get_segments_from_annotations(path_json, df):\n",
    "    \"\"\"Función que extrae cada segmento de cada artículo existente en formato json en el \n",
    "    directorio 'path_json'. Retorna un dataframe con la totalidad de los segmentos.\"\"\"\n",
    "    \n",
    "    features = ['file', 'x_1','y_1','x_2','y_2','label', 'content']\n",
    "\n",
    "    df = pd.DataFrame(columns=features)\n",
    "\n",
    "    for filename in os.listdir(path_json):\n",
    "        if filename.endswith(\".json\"):\n",
    "            file_path = os.path.join(path_json, filename)\n",
    "            with open(file_path, \"r\") as json_file:\n",
    "                datos = json.load(json_file)\n",
    "            \n",
    "            print(datos['Diario'])\n",
    "            \n",
    "            try:\n",
    "                caja = Caja(filename.replace('.json', '.tif'), datos['Diario']['bounding_box'], 'Diario', datos['Diario']['text'])\n",
    "                df = df.append(caja.to_pd_series(), ignore_index=True)\n",
    "                #print(f'Archivo: {caja.file} | Segmento: {segmento}  | Estado OK!')\n",
    "            except:\n",
    "                print(f'Archivo: {filename} | Segmento: Diario  | Estado ERROR!')\n",
    "\n",
    "            try:\n",
    "                caja = Caja(filename.replace('.json', '.tif'), datos['Fecha']['bounding_box'], 'Fecha', datos['Fecha']['text'])\n",
    "                df = df.append(caja.to_pd_series(), ignore_index=True)\n",
    "                #print(f'Archivo: {caja.file} | Segmento: {segmento}  | Estado OK!')\n",
    "            except:\n",
    "                print(f'Archivo: {filename} | Segmento: Fecha  | Estado ERROR!')\n",
    "            \n",
    "            for nota in datos['Notas']:\n",
    "                for segmento in nota:\n",
    "                    for detalle in nota[segmento]:\n",
    "                        try:\n",
    "                            caja = Caja(filename.replace('.json', '.tif'), detalle['bounding_box'], segmento, detalle['text'])\n",
    "                            df = df.append(caja.to_pd_series(), ignore_index=True)\n",
    "                            #print(f'Archivo: {caja.file} | Segmento: {segmento}  | Estado OK!')\n",
    "                        except:\n",
    "                            print(f'Archivo: {filename} | Segmento: {segmento}  | Estado ERROR!')\n",
    "    return df"
   ]
  },
  {
   "cell_type": "code",
   "execution_count": null,
   "id": "234caed1-71b2-4c89-8f19-7238934808a9",
   "metadata": {},
   "outputs": [],
   "source": [
    "def load_images_from_dir(path_tif, df):\n",
    "    \"\"\"Función que extrae cada segmento de cada nota. Retorna un dataframe con la totalidad de los segmentos.\"\"\"\n",
    "    \n",
    "    df = pd.DataFrame()\n",
    "\n",
    "    for filename in os.listdir(path_tif):\n",
    "        if filename.endswith(\".tif\"):\n",
    "            tif_file = os.path.join(path_tif, filename)\n",
    "            \n",
    "        imagen_cv = cv2.imread(tif_file)\n",
    "        img_dict = {}\n",
    "        img_dict['file'] = filename\n",
    "        img_dict['bitmap'] = imagen_cv\n",
    "        img_dict['height'] = imagen_cv.shape[0]\n",
    "        img_dict['width'] = imagen_cv.shape[1]\n",
    "\n",
    "        df = df.append(img_dict, ignore_index=True)\n",
    "\n",
    "    return df\n",
    "\n",
    "def show_image(imagen_cv):\n",
    "    \"\"\"Función que imprime una imagen previamente cargada con cv2.\"\"\"\n",
    "    plt.axis('off')\n",
    "    plt.imshow(imagen_cv)\n",
    "    \n",
    "def draw_rectangle_annotations(s_imagen, df_segmentos):\n",
    "    \"\"\"Función que sobreimprime los bounding boxes desde la tabla df_segmentos\n",
    "    sobre la imagen correspondiente al registro de imagen s_imagen.\"\"\"\n",
    "    img_file = s_imagen['file']\n",
    "    imagen = s_imagen['bitmap']\n",
    "    segmentos = df_segmentos[df_segmentos['file']==img_file]\n",
    "    for segmento in segmentos.itertuples():\n",
    "        x_1 = segmento[2]\n",
    "        y_1 = segmento[3]\n",
    "        x_2 = segmento[4]\n",
    "        y_2 = segmento[5]\n",
    "        cv2.rectangle(imagen, (x_1, y_1), (x_2, y_2), (36,255,12), 2)\n",
    "    show_image(imagen)\n",
    "    \n"
   ]
  },
  {
   "cell_type": "code",
   "execution_count": null,
   "id": "2c7c700b-95b0-4f8f-96b5-f31aa60f0ffe",
   "metadata": {},
   "outputs": [],
   "source": [
    "path_json = 'iaxidentidad_json'\n",
    "path_tif = 'iaxidentidad_tif'\n",
    "path_output = 'output_csv'\n",
    "\n",
    "df_segmentos = pd.DataFrame()\n",
    "df_imagenes = pd.DataFrame()\n",
    "\n",
    "df_segmentos = get_segments_from_annotations(path_json, df_segmentos)\n",
    "df_imagenes = load_images_from_dir(path_tif, df_imagenes)"
   ]
  },
  {
   "cell_type": "code",
   "execution_count": null,
   "id": "5fc22e2d-8128-4fce-987e-4f1f34626d4c",
   "metadata": {},
   "outputs": [],
   "source": [
    "df_segmentos.head()"
   ]
  },
  {
   "cell_type": "code",
   "execution_count": null,
   "id": "3886cbfc-d18a-40d6-b344-23451341a3b9",
   "metadata": {},
   "outputs": [],
   "source": [
    "df_imagenes.head()"
   ]
  },
  {
   "cell_type": "code",
   "execution_count": null,
   "id": "fd507804-f07b-4cdb-97d8-ac05c3608619",
   "metadata": {},
   "outputs": [],
   "source": [
    "articulo = df_imagenes.iloc[1]\n",
    "articulo"
   ]
  },
  {
   "cell_type": "code",
   "execution_count": null,
   "id": "ac517c61-e951-4d47-9e5b-27c5c5525c8b",
   "metadata": {},
   "outputs": [],
   "source": [
    "show_image(articulo['bitmap'])"
   ]
  },
  {
   "cell_type": "code",
   "execution_count": null,
   "id": "14731312-beb7-4c1a-98ca-96d2c282f7b8",
   "metadata": {},
   "outputs": [],
   "source": [
    "draw_rectangle_annotations(articulo, df_segmentos)"
   ]
  },
  {
   "cell_type": "markdown",
   "id": "a6aa5fef-50cb-420b-b394-0f7294eb9f7a",
   "metadata": {},
   "source": [
    "## Exportación a csv"
   ]
  },
  {
   "cell_type": "code",
   "execution_count": null,
   "id": "7c94dea1-01ac-486a-b2ac-93533e35a3a7",
   "metadata": {},
   "outputs": [],
   "source": [
    "df_segmentos.to_csv(path_output + '/data_segments.csv')\n",
    "df_imagenes.to_csv(path_output + '/data_images.csv')"
   ]
  }
 ],
 "metadata": {
  "kernelspec": {
   "display_name": "Python 3 (ipykernel)",
   "language": "python",
   "name": "python3"
  },
  "language_info": {
   "codemirror_mode": {
    "name": "ipython",
    "version": 3
   },
   "file_extension": ".py",
   "mimetype": "text/x-python",
   "name": "python",
   "nbconvert_exporter": "python",
   "pygments_lexer": "ipython3"
  }
 },
 "nbformat": 4,
 "nbformat_minor": 5
}
