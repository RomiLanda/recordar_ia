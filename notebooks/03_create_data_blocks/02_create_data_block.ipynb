{
 "cells": [
  {
   "cell_type": "code",
   "execution_count": 1,
   "id": "8592af68-9a09-4a03-955f-414f21c3c2f5",
   "metadata": {
    "tags": []
   },
   "outputs": [],
   "source": [
    "from src.load_data import create_data_block"
   ]
  },
  {
   "cell_type": "code",
   "execution_count": 2,
   "id": "ad50227f-ae40-4b96-ae70-9df66b5eba93",
   "metadata": {
    "tags": []
   },
   "outputs": [],
   "source": [
    "OUTPUT_DATA = \"../../out_data/\"\n",
    "INPUT_DATA = \"../../input_data/\""
   ]
  },
  {
   "cell_type": "code",
   "execution_count": 3,
   "id": "03cf7ebb-468f-497b-b8c8-0594d4661e32",
   "metadata": {
    "tags": []
   },
   "outputs": [
    {
     "name": "stdout",
     "output_type": "stream",
     "text": [
      "{'texto': 'CRONICA (Vespertina)', 'bounding_box': {'x': 198, 'y': 66, 'w': 363, 'h': 48}}\n",
      "{'texto': 'DIARIO POPULAR', 'bounding_box': {'x': 620, 'y': 277, 'w': 300, 'h': 45}}\n",
      "{'texto': 'LA VOZ', 'bounding_box': {'x': 637, 'y': 193, 'w': 1338, 'h': 222}}\n",
      "{}\n",
      "Archivo: ../../input_data/Clarín 1985-05-22 Nueva misa de FAMUS.json | Segmento: Diario  | Estado ERROR!\n",
      "Archivo: ../../input_data/Clarín 1985-05-22 Nueva misa de FAMUS.json | Segmento: Fecha  | Estado ERROR!\n",
      "{}\n",
      "Archivo: ../../input_data/Ambito financiero 1987-12-04 Reacción en cadena por el caso Astiz.json | Segmento: Diario  | Estado ERROR!\n",
      "{}\n",
      "Archivo: ../../input_data/Clarín 1984-09-21 Al cabo de....json | Segmento: Diario  | Estado ERROR!\n",
      "Archivo: ../../input_data/Clarín 1984-09-21 Al cabo de....json | Segmento: Fecha  | Estado ERROR!\n",
      "{'texto': 'El Heraldo de Buenos Aires', 'bounding_box': {'x': 169, 'y': 8, 'w': 405, 'h': 40}}\n",
      "{}\n",
      "Archivo: ../../input_data/Clarín 1983-09-27 Solidaridad con Uruguay....json | Segmento: Diario  | Estado ERROR!\n",
      "Archivo: ../../input_data/Clarín 1983-09-27 Solidaridad con Uruguay....json | Segmento: Fecha  | Estado ERROR!\n",
      "{'texto': 'Clarín', 'bounding_box': {'x': 1072, 'y': 1395, 'w': 69, 'h': 29}}\n",
      "{'texto': 'LA NACION', 'bounding_box': {'x': 1359, 'y': 61, 'w': 2181, 'h': 274}}\n"
     ]
    }
   ],
   "source": [
    "data_block = create_data_block(INPUT_DATA, OUTPUT_DATA, debug = True)"
   ]
  },
  {
   "cell_type": "code",
   "execution_count": 6,
   "id": "e751e4a9-ca0e-4881-a1ca-11419f815326",
   "metadata": {
    "tags": []
   },
   "outputs": [
    {
     "data": {
      "text/plain": [
       "dict_keys(['file_path', 'image_shape', 'segments', 'token_boxes', 'doc_graph'])"
      ]
     },
     "execution_count": 6,
     "metadata": {},
     "output_type": "execute_result"
    }
   ],
   "source": [
    "data_block[0].keys()"
   ]
  },
  {
   "cell_type": "code",
   "execution_count": null,
   "id": "6da40f98-c70e-4e7a-884c-e3bd194afcc3",
   "metadata": {},
   "outputs": [],
   "source": []
  }
 ],
 "metadata": {
  "kernelspec": {
   "display_name": "Python 3 (ipykernel)",
   "language": "python",
   "name": "python3"
  },
  "language_info": {
   "codemirror_mode": {
    "name": "ipython",
    "version": 3
   },
   "file_extension": ".py",
   "mimetype": "text/x-python",
   "name": "python",
   "nbconvert_exporter": "python",
   "pygments_lexer": "ipython3",
   "version": "3.10.6"
  }
 },
 "nbformat": 4,
 "nbformat_minor": 5
}
