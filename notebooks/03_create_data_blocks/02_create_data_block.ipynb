{
 "cells": [
  {
   "cell_type": "code",
   "execution_count": null,
   "id": "51cf4404-cd55-4f31-b1bf-75dafe634139",
   "metadata": {
    "tags": []
   },
   "outputs": [],
   "source": [
    "from src.load_data import load_image, get_segments_from_annotations\n",
    "from src.ocr_boxes import apply_tesseract\n",
    "from src.utils import get_label_tokens, cv2pil\n",
    "from src.debug import doc_debug_labels\n",
    "import os"
   ]
  },
  {
   "cell_type": "code",
   "execution_count": null,
   "id": "8592af68-9a09-4a03-955f-414f21c3c2f5",
   "metadata": {
    "tags": []
   },
   "outputs": [],
   "source": [
    "from src.load_data import create_data_block"
   ]
  },
  {
   "cell_type": "code",
   "execution_count": null,
   "id": "ad50227f-ae40-4b96-ae70-9df66b5eba93",
   "metadata": {
    "tags": []
   },
   "outputs": [],
   "source": [
    "OUTPUT_DATA = \"../../out_data/\"\n",
    "INPUT_DATA = \"../../input_data/\""
   ]
  },
  {
   "cell_type": "code",
   "execution_count": null,
   "id": "03cf7ebb-468f-497b-b8c8-0594d4661e32",
   "metadata": {
    "tags": []
   },
   "outputs": [],
   "source": [
    "data_block = create_data_block(INPUT_DATA, OUTPUT_DATA, debug = True)"
   ]
  },
  {
   "cell_type": "code",
   "execution_count": null,
   "id": "3dff1e0e-548b-4e77-b86b-de1141f94dbd",
   "metadata": {
    "tags": []
   },
   "outputs": [],
   "source": [
    "data_block[0].keys()"
   ]
  },
  {
   "cell_type": "code",
   "execution_count": null,
   "id": "4504f730-c613-4a8d-8aa7-64b3f98bc1fb",
   "metadata": {},
   "outputs": [],
   "source": []
  }
 ],
 "metadata": {
  "kernelspec": {
   "display_name": "Python 3 (ipykernel)",
   "language": "python",
   "name": "python3"
  },
  "language_info": {
   "codemirror_mode": {
    "name": "ipython",
    "version": 3
   },
   "file_extension": ".py",
   "mimetype": "text/x-python",
   "name": "python",
   "nbconvert_exporter": "python",
   "pygments_lexer": "ipython3",
   "version": "3.10.6"
  }
 },
 "nbformat": 4,
 "nbformat_minor": 5
}
