{
 "cells": [
  {
   "cell_type": "code",
   "execution_count": null,
   "id": "854c4e1a-087f-491f-a30c-98f7094fca61",
   "metadata": {},
   "outputs": [],
   "source": [
    "import numpy as np\n",
    "import pandas as pd\n",
    "import json\n",
    "import os\n",
    "import matplotlib.pyplot as plt\n",
    "import cv2\n",
    "from PIL import Image\n",
    "import pytesseract\n",
    "from shapely import LineString, Point, Polygon, box"
   ]
  },
  {
   "cell_type": "markdown",
   "id": "858135c0-1286-4bdf-bcf5-4664349d3805",
   "metadata": {},
   "source": [
    "# Importar datos desde csv"
   ]
  },
  {
   "cell_type": "code",
   "execution_count": null,
   "id": "1e8ec35e-3b0e-473a-b145-5926ac99d19b",
   "metadata": {},
   "outputs": [],
   "source": [
    "data_segmentos = '../01_ingest_labeled_data/output_csv/data_segments.csv'\n",
    "data_imagenes = '../01_ingest_labeled_data/output_csv/data_images.csv'\n",
    "df_segmentos = pd.read_csv(data_segmentos).drop(columns=['Unnamed: 0'])\n",
    "df_imagenes = pd.read_csv(data_imagenes).drop(columns=['Unnamed: 0'])"
   ]
  },
  {
   "cell_type": "code",
   "execution_count": null,
   "id": "9dc6c317-0492-49d3-a23a-8d3f6a54a593",
   "metadata": {},
   "outputs": [],
   "source": [
    "df_segmentos.head()"
   ]
  },
  {
   "cell_type": "code",
   "execution_count": null,
   "id": "a9ed1f5c-865e-480c-8a2d-54573316c5f4",
   "metadata": {},
   "outputs": [],
   "source": [
    "df_imagenes.head()"
   ]
  },
  {
   "cell_type": "markdown",
   "id": "496a584e-a2a6-4d50-8a88-57e14268068d",
   "metadata": {},
   "source": [
    "## Procesamiento de un artículo puntual"
   ]
  },
  {
   "cell_type": "code",
   "execution_count": null,
   "id": "3d74a416-146d-44ed-a937-2f409fcb9983",
   "metadata": {},
   "outputs": [],
   "source": [
    "articulo = df_imagenes.iloc[0]\n",
    "articulo"
   ]
  },
  {
   "cell_type": "code",
   "execution_count": null,
   "id": "c152884f-7825-4301-aa17-b521cfc1f81c",
   "metadata": {},
   "outputs": [],
   "source": [
    "segmentos_articulo = df_segmentos[df_segmentos['file']==articulo['file']]\n",
    "segmentos_articulo"
   ]
  },
  {
   "cell_type": "markdown",
   "id": "84ffb606-1fa6-45d2-887b-561738b66599",
   "metadata": {},
   "source": [
    "# Obtener tokens"
   ]
  },
  {
   "cell_type": "code",
   "execution_count": null,
   "id": "bd89c6ae-1745-4c0d-addd-b2c99c90ed48",
   "metadata": {},
   "outputs": [],
   "source": [
    "path_images = '../01_ingest_labeled_data/iaxidentidad_tif'"
   ]
  },
  {
   "cell_type": "code",
   "execution_count": null,
   "id": "00d7467f-ec98-4ef1-a769-73e638dcd3cd",
   "metadata": {},
   "outputs": [],
   "source": [
    "mi_cfg = r\"-l spa --psm 3 --oem 3\""
   ]
  },
  {
   "cell_type": "code",
   "execution_count": null,
   "id": "3d5e5763-da15-4ed5-893d-d07d89e2cc42",
   "metadata": {},
   "outputs": [],
   "source": [
    "df_tokens = pytesseract.image_to_data(path_images + '/' + articulo['file'], config=mi_cfg, output_type=pytesseract.Output.DATAFRAME)"
   ]
  },
  {
   "cell_type": "code",
   "execution_count": null,
   "id": "f168d63b-7033-4026-b6da-14cb55412929",
   "metadata": {},
   "outputs": [],
   "source": [
    "df_tokens.info()"
   ]
  },
  {
   "cell_type": "markdown",
   "id": "3fa8e813-22dd-4099-a4a5-7d2f3ed22078",
   "metadata": {},
   "source": [
    "## Limpieza"
   ]
  },
  {
   "cell_type": "code",
   "execution_count": null,
   "id": "1d09467d-2088-43d6-838c-15254f7c8bd0",
   "metadata": {},
   "outputs": [],
   "source": [
    "def confidence_filter(df_data, confianza_min):\n",
    "    \"\"\"Devuelve df con palabras que superan X umbral de confianza en la detección. Parámetros: df original y confianza mínima.\"\"\"\n",
    "    mask_conf = (df_data['conf'].astype('float') > confianza_min)\n",
    "    print('Eliminados ', df_data[~mask_conf].shape[0])\n",
    "    #print(df_data[~mask_conf])\n",
    "    return df_data[mask_conf]\n",
    "\n",
    "def blank_filter(df_data):\n",
    "    \"\"\"Devuelve df sin elementos que fueron detectados como espacios. Parámetro: df original.\"\"\"    \n",
    "    mask_not_blank = (df_data['text'].str.strip() != '') & (df_data['text'] != np.NaN)\n",
    "    print('Eliminados ', df_data[~mask_not_blank].shape[0])\n",
    "    #print(df_data[~mask_not_blank])\n",
    "    return df_data[mask_not_blank]\n",
    "\n",
    "def height_filter(df_data):\n",
    "    \"\"\"Devuelve df sin outliers detectados en función de la altura del elemento. Parámetro: df original.\"\"\"    \n",
    "    highThresh_h = round(df_data['height'].quantile(.90) * 6)\n",
    "    lowThresh_h = round(df_data['height'].quantile(.90) / 5)\n",
    "    mask_height = (df_data['height'] > lowThresh_h) & (df_data['height'] < highThresh_h)\n",
    "    print('Eliminados ', df_data[~mask_height].shape[0])\n",
    "    #print(df_data[~mask_height])\n",
    "    return df_data[mask_height]"
   ]
  },
  {
   "cell_type": "code",
   "execution_count": null,
   "id": "b1694a81-0977-4134-826f-147289b329d4",
   "metadata": {},
   "outputs": [],
   "source": [
    "df_tokens = confidence_filter(df_tokens, 20)"
   ]
  },
  {
   "cell_type": "code",
   "execution_count": null,
   "id": "4b1d0377-e655-4998-93d5-8f5ec3c6fa54",
   "metadata": {},
   "outputs": [],
   "source": [
    "df_tokens = blank_filter(df_tokens)"
   ]
  },
  {
   "cell_type": "markdown",
   "id": "d7811079-e3e6-4c9e-afd8-2fa3e8f82238",
   "metadata": {},
   "source": [
    "## Generar poligonos de bounding boxes a partir de coordenadas"
   ]
  },
  {
   "cell_type": "code",
   "execution_count": null,
   "id": "a435745b-cd0f-4e3e-be50-c812108e32ca",
   "metadata": {},
   "outputs": [],
   "source": [
    "df_tokens['poligono'] = df_tokens.apply(lambda row: box(row.left, row.top, row.left + row.width, row.top + row.height), axis=1)\n",
    "df_tokens"
   ]
  },
  {
   "cell_type": "code",
   "execution_count": null,
   "id": "9ff5236b-0aaa-4159-ad05-b4128aa3b4eb",
   "metadata": {},
   "outputs": [],
   "source": [
    "df_segmentos['poligono'] = df_segmentos.apply(lambda row: box(row.x_1, row.y_1, row.x_2, row.y_2), axis=1)\n",
    "df_segmentos"
   ]
  },
  {
   "cell_type": "code",
   "execution_count": null,
   "id": "13924f4d-6049-4323-bd85-9c8bac9dcded",
   "metadata": {},
   "outputs": [],
   "source": [
    "segmentos_articulo = df_segmentos[df_segmentos['file']==articulo['file']][['poligono', 'label']]"
   ]
  },
  {
   "cell_type": "code",
   "execution_count": null,
   "id": "d7b44e47-c2b9-4cae-bb28-f08510a69096",
   "metadata": {},
   "outputs": [],
   "source": [
    "fig, ax = plt.subplots()\n",
    "ax.set_aspect('equal', adjustable='box')\n",
    "for r in df_tokens['poligono']:\n",
    "    r_coords = list(r.exterior.coords)\n",
    "\n",
    "    ax.plot(*zip(*r_coords), color='b')\n",
    "\n",
    "for r in segmentos_articulo['poligono']:\n",
    "    r_coords = list(r.exterior.coords)\n",
    "\n",
    "    ax.plot(*zip(*r_coords), color='r', linestyle='--')\n",
    "    \n",
    "plt.axis([0, articulo['width'], articulo['height'], 0])\n",
    "plt.show()"
   ]
  },
  {
   "cell_type": "markdown",
   "id": "c358280d-85ed-4ef5-9596-e6f71d65f885",
   "metadata": {},
   "source": [
    "## Obtener etiqueta de tokens a partir de etiquetado manual"
   ]
  },
  {
   "cell_type": "code",
   "execution_count": null,
   "id": "bce0158b-a5df-4d05-bf70-6ba700e87116",
   "metadata": {},
   "outputs": [],
   "source": [
    "def get_label_token(poligono_token, segmentos_articulo):\n",
    "    #segmentos_articulo = df_segmentos[df_segmentos['file']==file][['poligono', 'label']]\n",
    "    #print(segmentos_articulo.shape)\n",
    "    #etiqueta = np.nan\n",
    "    label_candidates = {'etiqueta': -1, 'perc': -1}\n",
    "    i=0\n",
    "    for _, segmento in segmentos_articulo.iterrows():\n",
    "        #print('Poligono token: ')\n",
    "        #display(poligono_token)\n",
    "        #print('Poligono segmento: ')\n",
    "        #display(_, segmento['poligono'])\n",
    "        if poligono_token.intersects(segmento['poligono']):\n",
    "            i+=1\n",
    "            perc = poligono_token.intersection(segmento['poligono']).area\n",
    "            #print ('(label_candidates[perc]', label_candidates['perc'])\n",
    "            #print('new perc', perc)\n",
    "            if (label_candidates['perc'] < perc):\n",
    "                label_candidates = {'etiqueta': segmento['label'], 'perc': perc}\n",
    "                #print(i)\n",
    "    \n",
    "    return label_candidates['etiqueta']"
   ]
  },
  {
   "cell_type": "code",
   "execution_count": null,
   "id": "e45cd297-fe83-4f41-b83d-9151fb62de96",
   "metadata": {},
   "outputs": [],
   "source": [
    "segmentos_articulo = df_segmentos[df_segmentos['file']==articulo['file']][['poligono', 'label']]\n",
    "df_tokens['label'] = df_tokens['poligono'].apply(lambda x: get_label_token(x, segmentos_articulo))"
   ]
  },
  {
   "cell_type": "code",
   "execution_count": null,
   "id": "4c0b78f8-9d7e-4c8f-9c24-89998d66b072",
   "metadata": {},
   "outputs": [],
   "source": [
    "df_tokens"
   ]
  },
  {
   "cell_type": "markdown",
   "id": "b743c8a7-3ffd-4162-969d-da042a397575",
   "metadata": {},
   "source": [
    "## Debug"
   ]
  },
  {
   "cell_type": "code",
   "execution_count": null,
   "id": "169569e4-7333-4798-a0bb-0fcc262fc816",
   "metadata": {},
   "outputs": [],
   "source": [
    "import matplotlib.colors as mcolors"
   ]
  },
  {
   "cell_type": "code",
   "execution_count": null,
   "id": "a9b59734-df23-4e7c-a7f4-880b6fdfdb8a",
   "metadata": {},
   "outputs": [],
   "source": [
    "colores = list(mcolors.TABLEAU_COLORS.values())\n",
    "colores.append('#ff0000')\n",
    "colores.append('#00ff00')\n",
    "colores"
   ]
  },
  {
   "cell_type": "code",
   "execution_count": null,
   "id": "9645e272-6643-4037-8240-c081c0336bf9",
   "metadata": {},
   "outputs": [],
   "source": [
    "partes = ['Diario', 'Fecha', 'Volanta', 'Copete', 'Destacado', 'Título', 'Cuerpo', 'Fotografía', 'Epígrafe', 'Firma', 'Página', '-1']"
   ]
  },
  {
   "cell_type": "code",
   "execution_count": null,
   "id": "60e140d4-1181-4cd1-adb3-c500f1b5e854",
   "metadata": {},
   "outputs": [],
   "source": [
    "color_dict = dict(zip(partes,colores))"
   ]
  },
  {
   "cell_type": "code",
   "execution_count": null,
   "id": "8ffbf4cf-057d-4a20-8286-91fa76312e45",
   "metadata": {},
   "outputs": [],
   "source": [
    "plt.rcParams['figure.figsize'] = [30, 30]\n",
    "fig, ax = plt.subplots()\n",
    "ax.set_aspect('equal', adjustable='box')\n",
    "for l in df_tokens['label'].value_counts().keys().to_list():\n",
    "    for r in df_tokens[df_tokens['label']==l]['poligono']:\n",
    "        linewidth = 1\n",
    "        if l == -1: linewidth = 5\n",
    "        r_coords = list(r.exterior.coords)\n",
    "        ax.plot(*zip(*r_coords), color=color_dict[str(l)], linewidth=linewidth)\n",
    "        \n",
    "    for r in segmentos_articulo[segmentos_articulo['label']==l]['poligono']:\n",
    "        linewidth = 1\n",
    "        if l == -1: linewidth = 5\n",
    "        r_coords = list(r.exterior.coords)\n",
    "        ax.plot(*zip(*r_coords), color=color_dict[str(l)], linewidth=linewidth, linestyle='--')\n",
    "        \n",
    "plt.axis([0, articulo['width'], articulo['height'], 0])\n",
    "plt.savefig(\"output_debug.jpg\")\n",
    "plt.show()"
   ]
  }
 ],
 "metadata": {
  "kernelspec": {
   "display_name": "Python 3 (ipykernel)",
   "language": "python",
   "name": "python3"
  },
  "language_info": {
   "codemirror_mode": {
    "name": "ipython",
    "version": 3
   },
   "file_extension": ".py",
   "mimetype": "text/x-python",
   "name": "python",
   "nbconvert_exporter": "python",
   "pygments_lexer": "ipython3",
   "version": "3.10.9"
  }
 },
 "nbformat": 4,
 "nbformat_minor": 5
}
