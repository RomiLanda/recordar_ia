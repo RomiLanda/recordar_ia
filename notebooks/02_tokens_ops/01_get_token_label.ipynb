{
 "cells": [
  {
   "cell_type": "code",
   "execution_count": 95,
   "id": "854c4e1a-087f-491f-a30c-98f7094fca61",
   "metadata": {
    "tags": []
   },
   "outputs": [],
   "source": [
    "import numpy as np\n",
    "import pandas as pd\n",
    "import json\n",
    "import os\n",
    "import matplotlib.pyplot as plt\n",
    "import cv2\n",
    "from PIL import Image\n",
    "import pytesseract\n",
    "from shapely import LineString, Point, Polygon, box"
   ]
  },
  {
   "cell_type": "markdown",
   "id": "858135c0-1286-4bdf-bcf5-4664349d3805",
   "metadata": {
    "tags": []
   },
   "source": [
    "# Importar datos desde csv"
   ]
  },
  {
   "cell_type": "code",
   "execution_count": 2,
   "id": "1e8ec35e-3b0e-473a-b145-5926ac99d19b",
   "metadata": {},
   "outputs": [],
   "source": [
    "data_segmentos = '../01_ingest_labeled_data/output_csv/data_segments.csv'\n",
    "data_imagenes = '../01_ingest_labeled_data/output_csv/data_images.csv'\n",
    "df_segmentos = pd.read_csv(data_segmentos).drop(columns=['Unnamed: 0'])\n",
    "df_imagenes = pd.read_csv(data_imagenes).drop(columns=['Unnamed: 0'])"
   ]
  },
  {
   "cell_type": "code",
   "execution_count": 3,
   "id": "9dc6c317-0492-49d3-a23a-8d3f6a54a593",
   "metadata": {},
   "outputs": [
    {
     "data": {
      "text/html": [
       "<div>\n",
       "<style scoped>\n",
       "    .dataframe tbody tr th:only-of-type {\n",
       "        vertical-align: middle;\n",
       "    }\n",
       "\n",
       "    .dataframe tbody tr th {\n",
       "        vertical-align: top;\n",
       "    }\n",
       "\n",
       "    .dataframe thead th {\n",
       "        text-align: right;\n",
       "    }\n",
       "</style>\n",
       "<table border=\"1\" class=\"dataframe\">\n",
       "  <thead>\n",
       "    <tr style=\"text-align: right;\">\n",
       "      <th></th>\n",
       "      <th>file</th>\n",
       "      <th>x_1</th>\n",
       "      <th>y_1</th>\n",
       "      <th>x_2</th>\n",
       "      <th>y_2</th>\n",
       "      <th>label</th>\n",
       "      <th>content</th>\n",
       "    </tr>\n",
       "  </thead>\n",
       "  <tbody>\n",
       "    <tr>\n",
       "      <th>0</th>\n",
       "      <td>La Gaceta de hoy 1986-12-24 Arosa descartó un ...</td>\n",
       "      <td>12</td>\n",
       "      <td>19</td>\n",
       "      <td>863</td>\n",
       "      <td>78</td>\n",
       "      <td>Título</td>\n",
       "      <td>AROSA DESCARTO UN GOLPE MILITAR</td>\n",
       "    </tr>\n",
       "    <tr>\n",
       "      <th>1</th>\n",
       "      <td>La Gaceta de hoy 1986-12-24 Arosa descartó un ...</td>\n",
       "      <td>642</td>\n",
       "      <td>144</td>\n",
       "      <td>761</td>\n",
       "      <td>159</td>\n",
       "      <td>Destacado</td>\n",
       "      <td>HABLA TROCCOLI</td>\n",
       "    </tr>\n",
       "    <tr>\n",
       "      <th>2</th>\n",
       "      <td>La Gaceta de hoy 1986-12-24 Arosa descartó un ...</td>\n",
       "      <td>14</td>\n",
       "      <td>92</td>\n",
       "      <td>309</td>\n",
       "      <td>229</td>\n",
       "      <td>Cuerpo</td>\n",
       "      <td>La eventualidad de un golpe militar fue descar...</td>\n",
       "    </tr>\n",
       "    <tr>\n",
       "      <th>3</th>\n",
       "      <td>La Gaceta de hoy 1986-12-24 Arosa descartó un ...</td>\n",
       "      <td>323</td>\n",
       "      <td>90</td>\n",
       "      <td>623</td>\n",
       "      <td>228</td>\n",
       "      <td>Cuerpo</td>\n",
       "      <td>de servir a una causa justa, al extenderse en ...</td>\n",
       "    </tr>\n",
       "    <tr>\n",
       "      <th>4</th>\n",
       "      <td>La Gaceta de hoy 1986-12-24 Arosa descartó un ...</td>\n",
       "      <td>641</td>\n",
       "      <td>90</td>\n",
       "      <td>932</td>\n",
       "      <td>142</td>\n",
       "      <td>Cuerpo</td>\n",
       "      <td>la calificó como \"muy discutible\" por entender...</td>\n",
       "    </tr>\n",
       "  </tbody>\n",
       "</table>\n",
       "</div>"
      ],
      "text/plain": [
       "                                                file  x_1  y_1  x_2  y_2  \\\n",
       "0  La Gaceta de hoy 1986-12-24 Arosa descartó un ...   12   19  863   78   \n",
       "1  La Gaceta de hoy 1986-12-24 Arosa descartó un ...  642  144  761  159   \n",
       "2  La Gaceta de hoy 1986-12-24 Arosa descartó un ...   14   92  309  229   \n",
       "3  La Gaceta de hoy 1986-12-24 Arosa descartó un ...  323   90  623  228   \n",
       "4  La Gaceta de hoy 1986-12-24 Arosa descartó un ...  641   90  932  142   \n",
       "\n",
       "       label                                            content  \n",
       "0     Título                    AROSA DESCARTO UN GOLPE MILITAR  \n",
       "1  Destacado                                     HABLA TROCCOLI  \n",
       "2     Cuerpo  La eventualidad de un golpe militar fue descar...  \n",
       "3     Cuerpo  de servir a una causa justa, al extenderse en ...  \n",
       "4     Cuerpo  la calificó como \"muy discutible\" por entender...  "
      ]
     },
     "execution_count": 3,
     "metadata": {},
     "output_type": "execute_result"
    }
   ],
   "source": [
    "df_segmentos.head()"
   ]
  },
  {
   "cell_type": "code",
   "execution_count": 4,
   "id": "a9ed1f5c-865e-480c-8a2d-54573316c5f4",
   "metadata": {},
   "outputs": [
    {
     "data": {
      "text/html": [
       "<div>\n",
       "<style scoped>\n",
       "    .dataframe tbody tr th:only-of-type {\n",
       "        vertical-align: middle;\n",
       "    }\n",
       "\n",
       "    .dataframe tbody tr th {\n",
       "        vertical-align: top;\n",
       "    }\n",
       "\n",
       "    .dataframe thead th {\n",
       "        text-align: right;\n",
       "    }\n",
       "</style>\n",
       "<table border=\"1\" class=\"dataframe\">\n",
       "  <thead>\n",
       "    <tr style=\"text-align: right;\">\n",
       "      <th></th>\n",
       "      <th>file</th>\n",
       "      <th>bitmap</th>\n",
       "      <th>height</th>\n",
       "      <th>width</th>\n",
       "    </tr>\n",
       "  </thead>\n",
       "  <tbody>\n",
       "    <tr>\n",
       "      <th>0</th>\n",
       "      <td>Crónica 1983-12-14 General Weher Justifico tod...</td>\n",
       "      <td>[[[255 255 255]\\n  [255 255 255]\\n  [255 255 2...</td>\n",
       "      <td>971.0</td>\n",
       "      <td>1672.0</td>\n",
       "    </tr>\n",
       "    <tr>\n",
       "      <th>1</th>\n",
       "      <td>La Razon 1986-12-05 Los senadores de la Renova...</td>\n",
       "      <td>[[[0 0 0]\\n  [0 0 0]\\n  [0 0 0]\\n  ...\\n  [0 0...</td>\n",
       "      <td>1009.0</td>\n",
       "      <td>1202.0</td>\n",
       "    </tr>\n",
       "    <tr>\n",
       "      <th>2</th>\n",
       "      <td>La Gaceta de hoy 1986-12-24 Arosa descartó un ...</td>\n",
       "      <td>[[[255 255 255]\\n  [255 255 255]\\n  [255 255 2...</td>\n",
       "      <td>252.0</td>\n",
       "      <td>945.0</td>\n",
       "    </tr>\n",
       "  </tbody>\n",
       "</table>\n",
       "</div>"
      ],
      "text/plain": [
       "                                                file  \\\n",
       "0  Crónica 1983-12-14 General Weher Justifico tod...   \n",
       "1  La Razon 1986-12-05 Los senadores de la Renova...   \n",
       "2  La Gaceta de hoy 1986-12-24 Arosa descartó un ...   \n",
       "\n",
       "                                              bitmap  height   width  \n",
       "0  [[[255 255 255]\\n  [255 255 255]\\n  [255 255 2...   971.0  1672.0  \n",
       "1  [[[0 0 0]\\n  [0 0 0]\\n  [0 0 0]\\n  ...\\n  [0 0...  1009.0  1202.0  \n",
       "2  [[[255 255 255]\\n  [255 255 255]\\n  [255 255 2...   252.0   945.0  "
      ]
     },
     "execution_count": 4,
     "metadata": {},
     "output_type": "execute_result"
    }
   ],
   "source": [
    "df_imagenes.head()"
   ]
  },
  {
   "cell_type": "code",
   "execution_count": 5,
   "id": "3d74a416-146d-44ed-a937-2f409fcb9983",
   "metadata": {},
   "outputs": [
    {
     "data": {
      "text/plain": [
       "file      La Gaceta de hoy 1986-12-24 Arosa descartó un ...\n",
       "bitmap    [[[255 255 255]\\n  [255 255 255]\\n  [255 255 2...\n",
       "height                                                252.0\n",
       "width                                                 945.0\n",
       "Name: 2, dtype: object"
      ]
     },
     "execution_count": 5,
     "metadata": {},
     "output_type": "execute_result"
    }
   ],
   "source": [
    "articulo = df_imagenes.iloc[2]\n",
    "articulo"
   ]
  },
  {
   "cell_type": "code",
   "execution_count": 6,
   "id": "c152884f-7825-4301-aa17-b521cfc1f81c",
   "metadata": {
    "tags": []
   },
   "outputs": [
    {
     "data": {
      "text/html": [
       "<div>\n",
       "<style scoped>\n",
       "    .dataframe tbody tr th:only-of-type {\n",
       "        vertical-align: middle;\n",
       "    }\n",
       "\n",
       "    .dataframe tbody tr th {\n",
       "        vertical-align: top;\n",
       "    }\n",
       "\n",
       "    .dataframe thead th {\n",
       "        text-align: right;\n",
       "    }\n",
       "</style>\n",
       "<table border=\"1\" class=\"dataframe\">\n",
       "  <thead>\n",
       "    <tr style=\"text-align: right;\">\n",
       "      <th></th>\n",
       "      <th>file</th>\n",
       "      <th>x_1</th>\n",
       "      <th>y_1</th>\n",
       "      <th>x_2</th>\n",
       "      <th>y_2</th>\n",
       "      <th>label</th>\n",
       "      <th>content</th>\n",
       "    </tr>\n",
       "  </thead>\n",
       "  <tbody>\n",
       "    <tr>\n",
       "      <th>0</th>\n",
       "      <td>La Gaceta de hoy 1986-12-24 Arosa descartó un ...</td>\n",
       "      <td>12</td>\n",
       "      <td>19</td>\n",
       "      <td>863</td>\n",
       "      <td>78</td>\n",
       "      <td>Título</td>\n",
       "      <td>AROSA DESCARTO UN GOLPE MILITAR</td>\n",
       "    </tr>\n",
       "    <tr>\n",
       "      <th>1</th>\n",
       "      <td>La Gaceta de hoy 1986-12-24 Arosa descartó un ...</td>\n",
       "      <td>642</td>\n",
       "      <td>144</td>\n",
       "      <td>761</td>\n",
       "      <td>159</td>\n",
       "      <td>Destacado</td>\n",
       "      <td>HABLA TROCCOLI</td>\n",
       "    </tr>\n",
       "    <tr>\n",
       "      <th>2</th>\n",
       "      <td>La Gaceta de hoy 1986-12-24 Arosa descartó un ...</td>\n",
       "      <td>14</td>\n",
       "      <td>92</td>\n",
       "      <td>309</td>\n",
       "      <td>229</td>\n",
       "      <td>Cuerpo</td>\n",
       "      <td>La eventualidad de un golpe militar fue descar...</td>\n",
       "    </tr>\n",
       "    <tr>\n",
       "      <th>3</th>\n",
       "      <td>La Gaceta de hoy 1986-12-24 Arosa descartó un ...</td>\n",
       "      <td>323</td>\n",
       "      <td>90</td>\n",
       "      <td>623</td>\n",
       "      <td>228</td>\n",
       "      <td>Cuerpo</td>\n",
       "      <td>de servir a una causa justa, al extenderse en ...</td>\n",
       "    </tr>\n",
       "    <tr>\n",
       "      <th>4</th>\n",
       "      <td>La Gaceta de hoy 1986-12-24 Arosa descartó un ...</td>\n",
       "      <td>641</td>\n",
       "      <td>90</td>\n",
       "      <td>932</td>\n",
       "      <td>142</td>\n",
       "      <td>Cuerpo</td>\n",
       "      <td>la calificó como \"muy discutible\" por entender...</td>\n",
       "    </tr>\n",
       "    <tr>\n",
       "      <th>5</th>\n",
       "      <td>La Gaceta de hoy 1986-12-24 Arosa descartó un ...</td>\n",
       "      <td>642</td>\n",
       "      <td>162</td>\n",
       "      <td>936</td>\n",
       "      <td>227</td>\n",
       "      <td>Cuerpo</td>\n",
       "      <td>El ministro del Interior, Antonio Tróccoli, so...</td>\n",
       "    </tr>\n",
       "  </tbody>\n",
       "</table>\n",
       "</div>"
      ],
      "text/plain": [
       "                                                file  x_1  y_1  x_2  y_2  \\\n",
       "0  La Gaceta de hoy 1986-12-24 Arosa descartó un ...   12   19  863   78   \n",
       "1  La Gaceta de hoy 1986-12-24 Arosa descartó un ...  642  144  761  159   \n",
       "2  La Gaceta de hoy 1986-12-24 Arosa descartó un ...   14   92  309  229   \n",
       "3  La Gaceta de hoy 1986-12-24 Arosa descartó un ...  323   90  623  228   \n",
       "4  La Gaceta de hoy 1986-12-24 Arosa descartó un ...  641   90  932  142   \n",
       "5  La Gaceta de hoy 1986-12-24 Arosa descartó un ...  642  162  936  227   \n",
       "\n",
       "       label                                            content  \n",
       "0     Título                    AROSA DESCARTO UN GOLPE MILITAR  \n",
       "1  Destacado                                     HABLA TROCCOLI  \n",
       "2     Cuerpo  La eventualidad de un golpe militar fue descar...  \n",
       "3     Cuerpo  de servir a una causa justa, al extenderse en ...  \n",
       "4     Cuerpo  la calificó como \"muy discutible\" por entender...  \n",
       "5     Cuerpo  El ministro del Interior, Antonio Tróccoli, so...  "
      ]
     },
     "execution_count": 6,
     "metadata": {},
     "output_type": "execute_result"
    }
   ],
   "source": [
    "segmentos_articulo = df_segmentos[df_segmentos['file']==articulo['file']]\n",
    "segmentos_articulo"
   ]
  },
  {
   "cell_type": "markdown",
   "id": "84ffb606-1fa6-45d2-887b-561738b66599",
   "metadata": {
    "tags": []
   },
   "source": [
    "# Obtener tokens"
   ]
  },
  {
   "cell_type": "code",
   "execution_count": 110,
   "id": "bd89c6ae-1745-4c0d-addd-b2c99c90ed48",
   "metadata": {
    "tags": []
   },
   "outputs": [],
   "source": [
    "path_images = '../01_ingest_labeled_data/iaxidentidad_tif'"
   ]
  },
  {
   "cell_type": "code",
   "execution_count": 111,
   "id": "00d7467f-ec98-4ef1-a769-73e638dcd3cd",
   "metadata": {
    "tags": []
   },
   "outputs": [],
   "source": [
    "mi_cfg = r\"-l spa --psm 3 --oem 3\""
   ]
  },
  {
   "cell_type": "code",
   "execution_count": 112,
   "id": "2d0c5807-be6f-4744-aa41-c7795dc03dae",
   "metadata": {
    "tags": []
   },
   "outputs": [],
   "source": [
    "#cajas = pytesseract.image_to_boxes(imagen_cv, config=mi_cfg)"
   ]
  },
  {
   "cell_type": "code",
   "execution_count": 113,
   "id": "3d5e5763-da15-4ed5-893d-d07d89e2cc42",
   "metadata": {
    "tags": []
   },
   "outputs": [],
   "source": [
    "df_tokens = pytesseract.image_to_data(path_images + '/' + articulo['file'], config=mi_cfg, output_type=pytesseract.Output.DATAFRAME)"
   ]
  },
  {
   "cell_type": "code",
   "execution_count": 114,
   "id": "f168d63b-7033-4026-b6da-14cb55412929",
   "metadata": {
    "tags": []
   },
   "outputs": [
    {
     "data": {
      "text/html": [
       "<div>\n",
       "<style scoped>\n",
       "    .dataframe tbody tr th:only-of-type {\n",
       "        vertical-align: middle;\n",
       "    }\n",
       "\n",
       "    .dataframe tbody tr th {\n",
       "        vertical-align: top;\n",
       "    }\n",
       "\n",
       "    .dataframe thead th {\n",
       "        text-align: right;\n",
       "    }\n",
       "</style>\n",
       "<table border=\"1\" class=\"dataframe\">\n",
       "  <thead>\n",
       "    <tr style=\"text-align: right;\">\n",
       "      <th></th>\n",
       "      <th>level</th>\n",
       "      <th>page_num</th>\n",
       "      <th>block_num</th>\n",
       "      <th>par_num</th>\n",
       "      <th>line_num</th>\n",
       "      <th>word_num</th>\n",
       "      <th>left</th>\n",
       "      <th>top</th>\n",
       "      <th>width</th>\n",
       "      <th>height</th>\n",
       "      <th>conf</th>\n",
       "      <th>text</th>\n",
       "    </tr>\n",
       "  </thead>\n",
       "  <tbody>\n",
       "    <tr>\n",
       "      <th>0</th>\n",
       "      <td>1</td>\n",
       "      <td>1</td>\n",
       "      <td>0</td>\n",
       "      <td>0</td>\n",
       "      <td>0</td>\n",
       "      <td>0</td>\n",
       "      <td>0</td>\n",
       "      <td>0</td>\n",
       "      <td>945</td>\n",
       "      <td>252</td>\n",
       "      <td>-1.000000</td>\n",
       "      <td>NaN</td>\n",
       "    </tr>\n",
       "    <tr>\n",
       "      <th>1</th>\n",
       "      <td>2</td>\n",
       "      <td>1</td>\n",
       "      <td>1</td>\n",
       "      <td>0</td>\n",
       "      <td>0</td>\n",
       "      <td>0</td>\n",
       "      <td>15</td>\n",
       "      <td>21</td>\n",
       "      <td>843</td>\n",
       "      <td>57</td>\n",
       "      <td>-1.000000</td>\n",
       "      <td>NaN</td>\n",
       "    </tr>\n",
       "    <tr>\n",
       "      <th>2</th>\n",
       "      <td>3</td>\n",
       "      <td>1</td>\n",
       "      <td>1</td>\n",
       "      <td>1</td>\n",
       "      <td>0</td>\n",
       "      <td>0</td>\n",
       "      <td>15</td>\n",
       "      <td>21</td>\n",
       "      <td>843</td>\n",
       "      <td>57</td>\n",
       "      <td>-1.000000</td>\n",
       "      <td>NaN</td>\n",
       "    </tr>\n",
       "    <tr>\n",
       "      <th>3</th>\n",
       "      <td>4</td>\n",
       "      <td>1</td>\n",
       "      <td>1</td>\n",
       "      <td>1</td>\n",
       "      <td>1</td>\n",
       "      <td>0</td>\n",
       "      <td>15</td>\n",
       "      <td>21</td>\n",
       "      <td>843</td>\n",
       "      <td>57</td>\n",
       "      <td>-1.000000</td>\n",
       "      <td>NaN</td>\n",
       "    </tr>\n",
       "    <tr>\n",
       "      <th>4</th>\n",
       "      <td>5</td>\n",
       "      <td>1</td>\n",
       "      <td>1</td>\n",
       "      <td>1</td>\n",
       "      <td>1</td>\n",
       "      <td>1</td>\n",
       "      <td>15</td>\n",
       "      <td>28</td>\n",
       "      <td>156</td>\n",
       "      <td>50</td>\n",
       "      <td>96.395561</td>\n",
       "      <td>AROSA</td>\n",
       "    </tr>\n",
       "    <tr>\n",
       "      <th>...</th>\n",
       "      <td>...</td>\n",
       "      <td>...</td>\n",
       "      <td>...</td>\n",
       "      <td>...</td>\n",
       "      <td>...</td>\n",
       "      <td>...</td>\n",
       "      <td>...</td>\n",
       "      <td>...</td>\n",
       "      <td>...</td>\n",
       "      <td>...</td>\n",
       "      <td>...</td>\n",
       "      <td>...</td>\n",
       "    </tr>\n",
       "    <tr>\n",
       "      <th>304</th>\n",
       "      <td>4</td>\n",
       "      <td>1</td>\n",
       "      <td>8</td>\n",
       "      <td>1</td>\n",
       "      <td>2</td>\n",
       "      <td>0</td>\n",
       "      <td>642</td>\n",
       "      <td>206</td>\n",
       "      <td>286</td>\n",
       "      <td>19</td>\n",
       "      <td>-1.000000</td>\n",
       "      <td>NaN</td>\n",
       "    </tr>\n",
       "    <tr>\n",
       "      <th>305</th>\n",
       "      <td>5</td>\n",
       "      <td>1</td>\n",
       "      <td>8</td>\n",
       "      <td>1</td>\n",
       "      <td>2</td>\n",
       "      <td>1</td>\n",
       "      <td>642</td>\n",
       "      <td>216</td>\n",
       "      <td>14</td>\n",
       "      <td>6</td>\n",
       "      <td>38.082321</td>\n",
       "      <td>Sin</td>\n",
       "    </tr>\n",
       "    <tr>\n",
       "      <th>306</th>\n",
       "      <td>5</td>\n",
       "      <td>1</td>\n",
       "      <td>8</td>\n",
       "      <td>1</td>\n",
       "      <td>2</td>\n",
       "      <td>2</td>\n",
       "      <td>660</td>\n",
       "      <td>214</td>\n",
       "      <td>63</td>\n",
       "      <td>11</td>\n",
       "      <td>80.541786</td>\n",
       "      <td>sospechas”.</td>\n",
       "    </tr>\n",
       "    <tr>\n",
       "      <th>307</th>\n",
       "      <td>5</td>\n",
       "      <td>1</td>\n",
       "      <td>8</td>\n",
       "      <td>1</td>\n",
       "      <td>2</td>\n",
       "      <td>3</td>\n",
       "      <td>808</td>\n",
       "      <td>207</td>\n",
       "      <td>5</td>\n",
       "      <td>7</td>\n",
       "      <td>0.000000</td>\n",
       "      <td>u</td>\n",
       "    </tr>\n",
       "    <tr>\n",
       "      <th>308</th>\n",
       "      <td>5</td>\n",
       "      <td>1</td>\n",
       "      <td>8</td>\n",
       "      <td>1</td>\n",
       "      <td>2</td>\n",
       "      <td>4</td>\n",
       "      <td>854</td>\n",
       "      <td>206</td>\n",
       "      <td>74</td>\n",
       "      <td>12</td>\n",
       "      <td>14.566269</td>\n",
       "      <td>mi.</td>\n",
       "    </tr>\n",
       "  </tbody>\n",
       "</table>\n",
       "<p>309 rows × 12 columns</p>\n",
       "</div>"
      ],
      "text/plain": [
       "     level  page_num  block_num  par_num  line_num  word_num  left  top  \\\n",
       "0        1         1          0        0         0         0     0    0   \n",
       "1        2         1          1        0         0         0    15   21   \n",
       "2        3         1          1        1         0         0    15   21   \n",
       "3        4         1          1        1         1         0    15   21   \n",
       "4        5         1          1        1         1         1    15   28   \n",
       "..     ...       ...        ...      ...       ...       ...   ...  ...   \n",
       "304      4         1          8        1         2         0   642  206   \n",
       "305      5         1          8        1         2         1   642  216   \n",
       "306      5         1          8        1         2         2   660  214   \n",
       "307      5         1          8        1         2         3   808  207   \n",
       "308      5         1          8        1         2         4   854  206   \n",
       "\n",
       "     width  height       conf         text  \n",
       "0      945     252  -1.000000          NaN  \n",
       "1      843      57  -1.000000          NaN  \n",
       "2      843      57  -1.000000          NaN  \n",
       "3      843      57  -1.000000          NaN  \n",
       "4      156      50  96.395561        AROSA  \n",
       "..     ...     ...        ...          ...  \n",
       "304    286      19  -1.000000          NaN  \n",
       "305     14       6  38.082321          Sin  \n",
       "306     63      11  80.541786  sospechas”.  \n",
       "307      5       7   0.000000            u  \n",
       "308     74      12  14.566269          mi.  \n",
       "\n",
       "[309 rows x 12 columns]"
      ]
     },
     "execution_count": 114,
     "metadata": {},
     "output_type": "execute_result"
    }
   ],
   "source": [
    "df_tokens"
   ]
  },
  {
   "cell_type": "code",
   "execution_count": null,
   "id": "54e40bed-4b60-4c73-a5b9-26f75273ff95",
   "metadata": {
    "tags": []
   },
   "outputs": [],
   "source": []
  },
  {
   "cell_type": "markdown",
   "id": "d7811079-e3e6-4c9e-afd8-2fa3e8f82238",
   "metadata": {},
   "source": [
    "## Generar poligonos de bounding boxes a partir de coordenadas"
   ]
  },
  {
   "cell_type": "code",
   "execution_count": 96,
   "id": "d7bb388e-0309-4e20-a83d-155d45e7de8b",
   "metadata": {
    "tags": []
   },
   "outputs": [],
   "source": [
    "def get_polygons_from_xywh(row):\n",
    "    p1 = Point(row['left'], row['top'])\n",
    "    p2 = Point(row['left']+row['width'], row['top'])\n",
    "    p3 = Point(row['left']+row['width'], row['top']+row['height'])\n",
    "    p4 = Point(row['left'], row['top']+row['height'])\n",
    "    p_list = [p1, p2, p3, p4]\n",
    "    row['poligono'] = box([p.x, p.y] for p in p_list)\n",
    "    return row\n",
    "\n",
    "def get_polygons_from_xyxy(row):\n",
    "    p1 = Point(row['x_1'], row['y_1'])\n",
    "    p2 = Point(row['x_2'], row['y_1'])\n",
    "    p3 = Point(row['x_2'], row['y_2'])\n",
    "    p4 = Point(row['x_1'], row['y_2'])\n",
    "    p_list = [p1, p2, p3, p4]\n",
    "    row['poligono'] = box([p.x, p.y] for p in p_list)\n",
    "    return row"
   ]
  },
  {
   "cell_type": "code",
   "execution_count": 115,
   "id": "a435745b-cd0f-4e3e-be50-c812108e32ca",
   "metadata": {
    "tags": []
   },
   "outputs": [
    {
     "data": {
      "text/html": [
       "<div>\n",
       "<style scoped>\n",
       "    .dataframe tbody tr th:only-of-type {\n",
       "        vertical-align: middle;\n",
       "    }\n",
       "\n",
       "    .dataframe tbody tr th {\n",
       "        vertical-align: top;\n",
       "    }\n",
       "\n",
       "    .dataframe thead th {\n",
       "        text-align: right;\n",
       "    }\n",
       "</style>\n",
       "<table border=\"1\" class=\"dataframe\">\n",
       "  <thead>\n",
       "    <tr style=\"text-align: right;\">\n",
       "      <th></th>\n",
       "      <th>level</th>\n",
       "      <th>page_num</th>\n",
       "      <th>block_num</th>\n",
       "      <th>par_num</th>\n",
       "      <th>line_num</th>\n",
       "      <th>word_num</th>\n",
       "      <th>left</th>\n",
       "      <th>top</th>\n",
       "      <th>width</th>\n",
       "      <th>height</th>\n",
       "      <th>conf</th>\n",
       "      <th>text</th>\n",
       "      <th>poligono</th>\n",
       "    </tr>\n",
       "  </thead>\n",
       "  <tbody>\n",
       "    <tr>\n",
       "      <th>0</th>\n",
       "      <td>1</td>\n",
       "      <td>1</td>\n",
       "      <td>0</td>\n",
       "      <td>0</td>\n",
       "      <td>0</td>\n",
       "      <td>0</td>\n",
       "      <td>0</td>\n",
       "      <td>0</td>\n",
       "      <td>945</td>\n",
       "      <td>252</td>\n",
       "      <td>-1.000000</td>\n",
       "      <td>NaN</td>\n",
       "      <td>POLYGON ((945 0, 945 252, 0 252, 0 0, 945 0))</td>\n",
       "    </tr>\n",
       "    <tr>\n",
       "      <th>1</th>\n",
       "      <td>2</td>\n",
       "      <td>1</td>\n",
       "      <td>1</td>\n",
       "      <td>0</td>\n",
       "      <td>0</td>\n",
       "      <td>0</td>\n",
       "      <td>15</td>\n",
       "      <td>21</td>\n",
       "      <td>843</td>\n",
       "      <td>57</td>\n",
       "      <td>-1.000000</td>\n",
       "      <td>NaN</td>\n",
       "      <td>POLYGON ((858 21, 858 78, 15 78, 15 21, 858 21))</td>\n",
       "    </tr>\n",
       "    <tr>\n",
       "      <th>2</th>\n",
       "      <td>3</td>\n",
       "      <td>1</td>\n",
       "      <td>1</td>\n",
       "      <td>1</td>\n",
       "      <td>0</td>\n",
       "      <td>0</td>\n",
       "      <td>15</td>\n",
       "      <td>21</td>\n",
       "      <td>843</td>\n",
       "      <td>57</td>\n",
       "      <td>-1.000000</td>\n",
       "      <td>NaN</td>\n",
       "      <td>POLYGON ((858 21, 858 78, 15 78, 15 21, 858 21))</td>\n",
       "    </tr>\n",
       "    <tr>\n",
       "      <th>3</th>\n",
       "      <td>4</td>\n",
       "      <td>1</td>\n",
       "      <td>1</td>\n",
       "      <td>1</td>\n",
       "      <td>1</td>\n",
       "      <td>0</td>\n",
       "      <td>15</td>\n",
       "      <td>21</td>\n",
       "      <td>843</td>\n",
       "      <td>57</td>\n",
       "      <td>-1.000000</td>\n",
       "      <td>NaN</td>\n",
       "      <td>POLYGON ((858 21, 858 78, 15 78, 15 21, 858 21))</td>\n",
       "    </tr>\n",
       "    <tr>\n",
       "      <th>4</th>\n",
       "      <td>5</td>\n",
       "      <td>1</td>\n",
       "      <td>1</td>\n",
       "      <td>1</td>\n",
       "      <td>1</td>\n",
       "      <td>1</td>\n",
       "      <td>15</td>\n",
       "      <td>28</td>\n",
       "      <td>156</td>\n",
       "      <td>50</td>\n",
       "      <td>96.395561</td>\n",
       "      <td>AROSA</td>\n",
       "      <td>POLYGON ((171 28, 171 78, 15 78, 15 28, 171 28))</td>\n",
       "    </tr>\n",
       "    <tr>\n",
       "      <th>...</th>\n",
       "      <td>...</td>\n",
       "      <td>...</td>\n",
       "      <td>...</td>\n",
       "      <td>...</td>\n",
       "      <td>...</td>\n",
       "      <td>...</td>\n",
       "      <td>...</td>\n",
       "      <td>...</td>\n",
       "      <td>...</td>\n",
       "      <td>...</td>\n",
       "      <td>...</td>\n",
       "      <td>...</td>\n",
       "      <td>...</td>\n",
       "    </tr>\n",
       "    <tr>\n",
       "      <th>304</th>\n",
       "      <td>4</td>\n",
       "      <td>1</td>\n",
       "      <td>8</td>\n",
       "      <td>1</td>\n",
       "      <td>2</td>\n",
       "      <td>0</td>\n",
       "      <td>642</td>\n",
       "      <td>206</td>\n",
       "      <td>286</td>\n",
       "      <td>19</td>\n",
       "      <td>-1.000000</td>\n",
       "      <td>NaN</td>\n",
       "      <td>POLYGON ((928 206, 928 225, 642 225, 642 206, ...</td>\n",
       "    </tr>\n",
       "    <tr>\n",
       "      <th>305</th>\n",
       "      <td>5</td>\n",
       "      <td>1</td>\n",
       "      <td>8</td>\n",
       "      <td>1</td>\n",
       "      <td>2</td>\n",
       "      <td>1</td>\n",
       "      <td>642</td>\n",
       "      <td>216</td>\n",
       "      <td>14</td>\n",
       "      <td>6</td>\n",
       "      <td>38.082321</td>\n",
       "      <td>Sin</td>\n",
       "      <td>POLYGON ((656 216, 656 222, 642 222, 642 216, ...</td>\n",
       "    </tr>\n",
       "    <tr>\n",
       "      <th>306</th>\n",
       "      <td>5</td>\n",
       "      <td>1</td>\n",
       "      <td>8</td>\n",
       "      <td>1</td>\n",
       "      <td>2</td>\n",
       "      <td>2</td>\n",
       "      <td>660</td>\n",
       "      <td>214</td>\n",
       "      <td>63</td>\n",
       "      <td>11</td>\n",
       "      <td>80.541786</td>\n",
       "      <td>sospechas”.</td>\n",
       "      <td>POLYGON ((723 214, 723 225, 660 225, 660 214, ...</td>\n",
       "    </tr>\n",
       "    <tr>\n",
       "      <th>307</th>\n",
       "      <td>5</td>\n",
       "      <td>1</td>\n",
       "      <td>8</td>\n",
       "      <td>1</td>\n",
       "      <td>2</td>\n",
       "      <td>3</td>\n",
       "      <td>808</td>\n",
       "      <td>207</td>\n",
       "      <td>5</td>\n",
       "      <td>7</td>\n",
       "      <td>0.000000</td>\n",
       "      <td>u</td>\n",
       "      <td>POLYGON ((813 207, 813 214, 808 214, 808 207, ...</td>\n",
       "    </tr>\n",
       "    <tr>\n",
       "      <th>308</th>\n",
       "      <td>5</td>\n",
       "      <td>1</td>\n",
       "      <td>8</td>\n",
       "      <td>1</td>\n",
       "      <td>2</td>\n",
       "      <td>4</td>\n",
       "      <td>854</td>\n",
       "      <td>206</td>\n",
       "      <td>74</td>\n",
       "      <td>12</td>\n",
       "      <td>14.566269</td>\n",
       "      <td>mi.</td>\n",
       "      <td>POLYGON ((928 206, 928 218, 854 218, 854 206, ...</td>\n",
       "    </tr>\n",
       "  </tbody>\n",
       "</table>\n",
       "<p>309 rows × 13 columns</p>\n",
       "</div>"
      ],
      "text/plain": [
       "     level  page_num  block_num  par_num  line_num  word_num  left  top  \\\n",
       "0        1         1          0        0         0         0     0    0   \n",
       "1        2         1          1        0         0         0    15   21   \n",
       "2        3         1          1        1         0         0    15   21   \n",
       "3        4         1          1        1         1         0    15   21   \n",
       "4        5         1          1        1         1         1    15   28   \n",
       "..     ...       ...        ...      ...       ...       ...   ...  ...   \n",
       "304      4         1          8        1         2         0   642  206   \n",
       "305      5         1          8        1         2         1   642  216   \n",
       "306      5         1          8        1         2         2   660  214   \n",
       "307      5         1          8        1         2         3   808  207   \n",
       "308      5         1          8        1         2         4   854  206   \n",
       "\n",
       "     width  height       conf         text  \\\n",
       "0      945     252  -1.000000          NaN   \n",
       "1      843      57  -1.000000          NaN   \n",
       "2      843      57  -1.000000          NaN   \n",
       "3      843      57  -1.000000          NaN   \n",
       "4      156      50  96.395561        AROSA   \n",
       "..     ...     ...        ...          ...   \n",
       "304    286      19  -1.000000          NaN   \n",
       "305     14       6  38.082321          Sin   \n",
       "306     63      11  80.541786  sospechas”.   \n",
       "307      5       7   0.000000            u   \n",
       "308     74      12  14.566269          mi.   \n",
       "\n",
       "                                              poligono  \n",
       "0        POLYGON ((945 0, 945 252, 0 252, 0 0, 945 0))  \n",
       "1     POLYGON ((858 21, 858 78, 15 78, 15 21, 858 21))  \n",
       "2     POLYGON ((858 21, 858 78, 15 78, 15 21, 858 21))  \n",
       "3     POLYGON ((858 21, 858 78, 15 78, 15 21, 858 21))  \n",
       "4     POLYGON ((171 28, 171 78, 15 78, 15 28, 171 28))  \n",
       "..                                                 ...  \n",
       "304  POLYGON ((928 206, 928 225, 642 225, 642 206, ...  \n",
       "305  POLYGON ((656 216, 656 222, 642 222, 642 216, ...  \n",
       "306  POLYGON ((723 214, 723 225, 660 225, 660 214, ...  \n",
       "307  POLYGON ((813 207, 813 214, 808 214, 808 207, ...  \n",
       "308  POLYGON ((928 206, 928 218, 854 218, 854 206, ...  \n",
       "\n",
       "[309 rows x 13 columns]"
      ]
     },
     "execution_count": 115,
     "metadata": {},
     "output_type": "execute_result"
    }
   ],
   "source": [
    "df_tokens['poligono'] = df_tokens.apply(lambda row: box(row.left, row.top, row.left + row.width, row.top + row.height), axis=1)\n",
    "df_tokens"
   ]
  },
  {
   "cell_type": "code",
   "execution_count": 105,
   "id": "9ff5236b-0aaa-4159-ad05-b4128aa3b4eb",
   "metadata": {
    "tags": []
   },
   "outputs": [
    {
     "data": {
      "text/html": [
       "<div>\n",
       "<style scoped>\n",
       "    .dataframe tbody tr th:only-of-type {\n",
       "        vertical-align: middle;\n",
       "    }\n",
       "\n",
       "    .dataframe tbody tr th {\n",
       "        vertical-align: top;\n",
       "    }\n",
       "\n",
       "    .dataframe thead th {\n",
       "        text-align: right;\n",
       "    }\n",
       "</style>\n",
       "<table border=\"1\" class=\"dataframe\">\n",
       "  <thead>\n",
       "    <tr style=\"text-align: right;\">\n",
       "      <th></th>\n",
       "      <th>file</th>\n",
       "      <th>x_1</th>\n",
       "      <th>y_1</th>\n",
       "      <th>x_2</th>\n",
       "      <th>y_2</th>\n",
       "      <th>label</th>\n",
       "      <th>content</th>\n",
       "      <th>poligono</th>\n",
       "    </tr>\n",
       "  </thead>\n",
       "  <tbody>\n",
       "    <tr>\n",
       "      <th>0</th>\n",
       "      <td>La Gaceta de hoy 1986-12-24 Arosa descartó un ...</td>\n",
       "      <td>12</td>\n",
       "      <td>19</td>\n",
       "      <td>863</td>\n",
       "      <td>78</td>\n",
       "      <td>Título</td>\n",
       "      <td>AROSA DESCARTO UN GOLPE MILITAR</td>\n",
       "      <td>POLYGON ((863 19, 863 78, 12 78, 12 19, 863 19))</td>\n",
       "    </tr>\n",
       "    <tr>\n",
       "      <th>1</th>\n",
       "      <td>La Gaceta de hoy 1986-12-24 Arosa descartó un ...</td>\n",
       "      <td>642</td>\n",
       "      <td>144</td>\n",
       "      <td>761</td>\n",
       "      <td>159</td>\n",
       "      <td>Destacado</td>\n",
       "      <td>HABLA TROCCOLI</td>\n",
       "      <td>POLYGON ((761 144, 761 159, 642 159, 642 144, ...</td>\n",
       "    </tr>\n",
       "    <tr>\n",
       "      <th>2</th>\n",
       "      <td>La Gaceta de hoy 1986-12-24 Arosa descartó un ...</td>\n",
       "      <td>14</td>\n",
       "      <td>92</td>\n",
       "      <td>309</td>\n",
       "      <td>229</td>\n",
       "      <td>Cuerpo</td>\n",
       "      <td>La eventualidad de un golpe militar fue descar...</td>\n",
       "      <td>POLYGON ((309 92, 309 229, 14 229, 14 92, 309 ...</td>\n",
       "    </tr>\n",
       "    <tr>\n",
       "      <th>3</th>\n",
       "      <td>La Gaceta de hoy 1986-12-24 Arosa descartó un ...</td>\n",
       "      <td>323</td>\n",
       "      <td>90</td>\n",
       "      <td>623</td>\n",
       "      <td>228</td>\n",
       "      <td>Cuerpo</td>\n",
       "      <td>de servir a una causa justa, al extenderse en ...</td>\n",
       "      <td>POLYGON ((623 90, 623 228, 323 228, 323 90, 62...</td>\n",
       "    </tr>\n",
       "    <tr>\n",
       "      <th>4</th>\n",
       "      <td>La Gaceta de hoy 1986-12-24 Arosa descartó un ...</td>\n",
       "      <td>641</td>\n",
       "      <td>90</td>\n",
       "      <td>932</td>\n",
       "      <td>142</td>\n",
       "      <td>Cuerpo</td>\n",
       "      <td>la calificó como \"muy discutible\" por entender...</td>\n",
       "      <td>POLYGON ((932 90, 932 142, 641 142, 641 90, 93...</td>\n",
       "    </tr>\n",
       "    <tr>\n",
       "      <th>...</th>\n",
       "      <td>...</td>\n",
       "      <td>...</td>\n",
       "      <td>...</td>\n",
       "      <td>...</td>\n",
       "      <td>...</td>\n",
       "      <td>...</td>\n",
       "      <td>...</td>\n",
       "      <td>...</td>\n",
       "    </tr>\n",
       "    <tr>\n",
       "      <th>182</th>\n",
       "      <td>Tiempo Argentino 1985-11-14 Sobreseimiento a m...</td>\n",
       "      <td>95</td>\n",
       "      <td>417</td>\n",
       "      <td>419</td>\n",
       "      <td>894</td>\n",
       "      <td>Cuerpo</td>\n",
       "      <td>El doctor Julio Desiderio\\nBurlando a cargo de...</td>\n",
       "      <td>POLYGON ((419 417, 419 894, 95 894, 95 417, 41...</td>\n",
       "    </tr>\n",
       "    <tr>\n",
       "      <th>183</th>\n",
       "      <td>Tiempo Argentino 1985-11-14 Sobreseimiento a m...</td>\n",
       "      <td>446</td>\n",
       "      <td>417</td>\n",
       "      <td>764</td>\n",
       "      <td>892</td>\n",
       "      <td>Cuerpo</td>\n",
       "      <td>privación ilegítima de libertad\\ny violación d...</td>\n",
       "      <td>POLYGON ((764 417, 764 892, 446 892, 446 417, ...</td>\n",
       "    </tr>\n",
       "    <tr>\n",
       "      <th>184</th>\n",
       "      <td>Tiempo Argentino 1985-11-14 Sobreseimiento a m...</td>\n",
       "      <td>796</td>\n",
       "      <td>417</td>\n",
       "      <td>1122</td>\n",
       "      <td>892</td>\n",
       "      <td>Cuerpo</td>\n",
       "      <td>Plata, y no lo habría denunciado\\n.\\nEl magist...</td>\n",
       "      <td>POLYGON ((1122 417, 1122 892, 796 892, 796 417...</td>\n",
       "    </tr>\n",
       "    <tr>\n",
       "      <th>185</th>\n",
       "      <td>Tiempo Argentino 1986-01-10 Querella del ex......</td>\n",
       "      <td>71</td>\n",
       "      <td>9</td>\n",
       "      <td>640</td>\n",
       "      <td>146</td>\n",
       "      <td>Título</td>\n",
       "      <td>Querella del ex oficial\\nHours por \"injurias\"</td>\n",
       "      <td>POLYGON ((640 9, 640 146, 71 146, 71 9, 640 9))</td>\n",
       "    </tr>\n",
       "    <tr>\n",
       "      <th>186</th>\n",
       "      <td>Tiempo Argentino 1986-01-10 Querella del ex......</td>\n",
       "      <td>25</td>\n",
       "      <td>159</td>\n",
       "      <td>690</td>\n",
       "      <td>632</td>\n",
       "      <td>Cuerpo</td>\n",
       "      <td>El ex oficial de la policía de la provincia de...</td>\n",
       "      <td>POLYGON ((690 159, 690 632, 25 632, 25 159, 69...</td>\n",
       "    </tr>\n",
       "  </tbody>\n",
       "</table>\n",
       "<p>187 rows × 8 columns</p>\n",
       "</div>"
      ],
      "text/plain": [
       "                                                  file  x_1  y_1   x_2  y_2  \\\n",
       "0    La Gaceta de hoy 1986-12-24 Arosa descartó un ...   12   19   863   78   \n",
       "1    La Gaceta de hoy 1986-12-24 Arosa descartó un ...  642  144   761  159   \n",
       "2    La Gaceta de hoy 1986-12-24 Arosa descartó un ...   14   92   309  229   \n",
       "3    La Gaceta de hoy 1986-12-24 Arosa descartó un ...  323   90   623  228   \n",
       "4    La Gaceta de hoy 1986-12-24 Arosa descartó un ...  641   90   932  142   \n",
       "..                                                 ...  ...  ...   ...  ...   \n",
       "182  Tiempo Argentino 1985-11-14 Sobreseimiento a m...   95  417   419  894   \n",
       "183  Tiempo Argentino 1985-11-14 Sobreseimiento a m...  446  417   764  892   \n",
       "184  Tiempo Argentino 1985-11-14 Sobreseimiento a m...  796  417  1122  892   \n",
       "185  Tiempo Argentino 1986-01-10 Querella del ex......   71    9   640  146   \n",
       "186  Tiempo Argentino 1986-01-10 Querella del ex......   25  159   690  632   \n",
       "\n",
       "         label                                            content  \\\n",
       "0       Título                    AROSA DESCARTO UN GOLPE MILITAR   \n",
       "1    Destacado                                     HABLA TROCCOLI   \n",
       "2       Cuerpo  La eventualidad de un golpe militar fue descar...   \n",
       "3       Cuerpo  de servir a una causa justa, al extenderse en ...   \n",
       "4       Cuerpo  la calificó como \"muy discutible\" por entender...   \n",
       "..         ...                                                ...   \n",
       "182     Cuerpo  El doctor Julio Desiderio\\nBurlando a cargo de...   \n",
       "183     Cuerpo  privación ilegítima de libertad\\ny violación d...   \n",
       "184     Cuerpo  Plata, y no lo habría denunciado\\n.\\nEl magist...   \n",
       "185     Título      Querella del ex oficial\\nHours por \"injurias\"   \n",
       "186     Cuerpo  El ex oficial de la policía de la provincia de...   \n",
       "\n",
       "                                              poligono  \n",
       "0     POLYGON ((863 19, 863 78, 12 78, 12 19, 863 19))  \n",
       "1    POLYGON ((761 144, 761 159, 642 159, 642 144, ...  \n",
       "2    POLYGON ((309 92, 309 229, 14 229, 14 92, 309 ...  \n",
       "3    POLYGON ((623 90, 623 228, 323 228, 323 90, 62...  \n",
       "4    POLYGON ((932 90, 932 142, 641 142, 641 90, 93...  \n",
       "..                                                 ...  \n",
       "182  POLYGON ((419 417, 419 894, 95 894, 95 417, 41...  \n",
       "183  POLYGON ((764 417, 764 892, 446 892, 446 417, ...  \n",
       "184  POLYGON ((1122 417, 1122 892, 796 892, 796 417...  \n",
       "185    POLYGON ((640 9, 640 146, 71 146, 71 9, 640 9))  \n",
       "186  POLYGON ((690 159, 690 632, 25 632, 25 159, 69...  \n",
       "\n",
       "[187 rows x 8 columns]"
      ]
     },
     "execution_count": 105,
     "metadata": {},
     "output_type": "execute_result"
    }
   ],
   "source": [
    "df_segmentos['poligono'] = df_segmentos.apply(lambda row: box(row.x_1, row.y_1, row.x_2, row.y_2), axis=1)\n",
    "df_segmentos"
   ]
  },
  {
   "cell_type": "code",
   "execution_count": 116,
   "id": "55db0264-44f8-4809-a514-453cc5492302",
   "metadata": {
    "tags": []
   },
   "outputs": [
    {
     "data": {
      "image/svg+xml": [
       "<svg xmlns=\"http://www.w3.org/2000/svg\" xmlns:xlink=\"http://www.w3.org/1999/xlink\" width=\"300\" height=\"127.07999999999998\" viewBox=\"-22.04 -15.04 919.0799999999999 127.07999999999998\" preserveAspectRatio=\"xMinYMin meet\"><g transform=\"matrix(1,0,0,-1,0,97.0)\"><path fill-rule=\"evenodd\" fill=\"#66cc99\" stroke=\"#555555\" stroke-width=\"6.127199999999999\" opacity=\"0.6\" d=\"M 863.0,19.0 L 863.0,78.0 L 12.0,78.0 L 12.0,19.0 L 863.0,19.0 z\" /></g></svg>"
      ],
      "text/plain": [
       "<POLYGON ((863 19, 863 78, 12 78, 12 19, 863 19))>"
      ]
     },
     "execution_count": 116,
     "metadata": {},
     "output_type": "execute_result"
    }
   ],
   "source": [
    "df_segmentos['poligono'][0]"
   ]
  },
  {
   "cell_type": "code",
   "execution_count": 121,
   "id": "61fa1545-adeb-4f38-906e-79833fb85c26",
   "metadata": {
    "tags": []
   },
   "outputs": [
    {
     "data": {
      "image/png": "[encoded data removed]",
      "text/plain": [
       "<Figure size 640x480 with 1 Axes>"
      ]
     },
     "metadata": {},
     "output_type": "display_data"
    }
   ],
   "source": [
    "# Obtener las coordenadas de los vértices de cada objeto\n",
    "fig, ax = plt.subplots()\n",
    "ax.set_aspect('equal', adjustable='box')\n",
    "for r in segmentos_articulo['poligono']:\n",
    "    r_coords = list(r.exterior.coords)\n",
    "\n",
    "    ax.plot(*zip(*r_coords), color='r')\n",
    "    # Dibujar los objetos en un gráfico\n",
    "\n",
    "plt.show()"
   ]
  },
  {
   "cell_type": "code",
   "execution_count": 123,
   "id": "d7b44e47-c2b9-4cae-bb28-f08510a69096",
   "metadata": {
    "tags": []
   },
   "outputs": [
    {
     "data": {
      "image/png": "[encoded data removed]",
      "text/plain": [
       "<Figure size 640x480 with 1 Axes>"
      ]
     },
     "metadata": {},
     "output_type": "display_data"
    }
   ],
   "source": [
    "# Obtener las coordenadas de los vértices de cada objeto\n",
    "fig, ax = plt.subplots()\n",
    "ax.set_aspect('equal', adjustable='box')\n",
    "for r in df_tokens['poligono']:\n",
    "    r_coords = list(r.exterior.coords)\n",
    "\n",
    "    ax.plot(*zip(*r_coords), color='b')\n",
    "    # Dibujar los objetos en un gráfico\n",
    "plt.show()"
   ]
  },
  {
   "cell_type": "code",
   "execution_count": null,
   "id": "98f28237-13e5-4840-a5a7-0139b21358f0",
   "metadata": {},
   "outputs": [],
   "source": []
  },
  {
   "cell_type": "markdown",
   "id": "c358280d-85ed-4ef5-9596-e6f71d65f885",
   "metadata": {},
   "source": [
    "## Obtener etiqueta de tokens a partir de etiquetado manual"
   ]
  },
  {
   "cell_type": "code",
   "execution_count": 247,
   "id": "bce0158b-a5df-4d05-bf70-6ba700e87116",
   "metadata": {},
   "outputs": [],
   "source": [
    "def get_label_token(poligono_token, segmentos_articulo):\n",
    "    #segmentos_articulo = df_segmentos[df_segmentos['file']==file][['poligono', 'label']]\n",
    "    #print(segmentos_articulo.shape)\n",
    "    etiqueta = np.nan\n",
    "    label_candidates = {'etiqueta': np.nan, 'perc': np.nan}\n",
    "\n",
    "    for _, segmento in segmentos_articulo.iterrows():\n",
    "        #print('Poligono token: ')\n",
    "        #display(poligono_token)\n",
    "        #print('Poligono segmento: ')\n",
    "        #display(_, segmento['poligono'])\n",
    "        if poligono_token.intersects(segmento['poligono']):\n",
    "            perc = (poligono_token.intersection(segmento['poligono']).area / poligono_token.union(segmento['poligono']).area)*100\n",
    "            if (label_candidates['perc'] != np.nan) or (label_candidates['perc'] < perc):\n",
    "                label_candidates = {'etiqueta': segmento['label'], 'perc': perc}\n",
    "    \n",
    "    return label_candidates['etiqueta']"
   ]
  },
  {
   "cell_type": "code",
   "execution_count": 248,
   "id": "05fd6620-d976-47e6-a5a8-47b2cbadf202",
   "metadata": {
    "tags": []
   },
   "outputs": [
    {
     "ename": "NameError",
     "evalue": "name 'label_candidates' is not defined",
     "output_type": "error",
     "traceback": [
      "\u001b[0;31m---------------------------------------------------------------------------\u001b[0m",
      "\u001b[0;31mNameError\u001b[0m                                 Traceback (most recent call last)",
      "\u001b[0;32m/tmp/ipykernel_21467/4196461456.py\u001b[0m in \u001b[0;36m<cell line: 1>\u001b[0;34m()\u001b[0m\n\u001b[0;32m----> 1\u001b[0;31m \u001b[0mlabel_candidates\u001b[0m\u001b[0;34m\u001b[0m\u001b[0;34m\u001b[0m\u001b[0m\n\u001b[0m",
      "\u001b[0;31mNameError\u001b[0m: name 'label_candidates' is not defined"
     ]
    }
   ],
   "source": [
    "label_candidates"
   ]
  },
  {
   "cell_type": "code",
   "execution_count": 249,
   "id": "e45cd297-fe83-4f41-b83d-9151fb62de96",
   "metadata": {
    "tags": []
   },
   "outputs": [
    {
     "data": {
      "text/plain": [
       "Cuerpo       296\n",
       "Título         8\n",
       "Destacado      5\n",
       "Name: poligono, dtype: int64"
      ]
     },
     "execution_count": 249,
     "metadata": {},
     "output_type": "execute_result"
    }
   ],
   "source": [
    "segmentos_articulo = df_segmentos[df_segmentos['file']==articulo['file']][['poligono', 'label']]\n",
    "df_tokens['poligono'].apply(lambda x: get_label_token(x, segmentos_articulo)).value_counts()"
   ]
  },
  {
   "cell_type": "code",
   "execution_count": 124,
   "id": "079cf314-5014-4a17-8963-1e0feb21c67e",
   "metadata": {
    "tags": []
   },
   "outputs": [
    {
     "data": {
      "text/html": [
       "<div>\n",
       "<style scoped>\n",
       "    .dataframe tbody tr th:only-of-type {\n",
       "        vertical-align: middle;\n",
       "    }\n",
       "\n",
       "    .dataframe tbody tr th {\n",
       "        vertical-align: top;\n",
       "    }\n",
       "\n",
       "    .dataframe thead th {\n",
       "        text-align: right;\n",
       "    }\n",
       "</style>\n",
       "<table border=\"1\" class=\"dataframe\">\n",
       "  <thead>\n",
       "    <tr style=\"text-align: right;\">\n",
       "      <th></th>\n",
       "      <th>poligono</th>\n",
       "      <th>label</th>\n",
       "    </tr>\n",
       "  </thead>\n",
       "  <tbody>\n",
       "    <tr>\n",
       "      <th>0</th>\n",
       "      <td>POLYGON ((863 19, 863 78, 12 78, 12 19, 863 19))</td>\n",
       "      <td>Título</td>\n",
       "    </tr>\n",
       "    <tr>\n",
       "      <th>1</th>\n",
       "      <td>POLYGON ((761 144, 761 159, 642 159, 642 144, ...</td>\n",
       "      <td>Destacado</td>\n",
       "    </tr>\n",
       "    <tr>\n",
       "      <th>2</th>\n",
       "      <td>POLYGON ((309 92, 309 229, 14 229, 14 92, 309 ...</td>\n",
       "      <td>Cuerpo</td>\n",
       "    </tr>\n",
       "    <tr>\n",
       "      <th>3</th>\n",
       "      <td>POLYGON ((623 90, 623 228, 323 228, 323 90, 62...</td>\n",
       "      <td>Cuerpo</td>\n",
       "    </tr>\n",
       "    <tr>\n",
       "      <th>4</th>\n",
       "      <td>POLYGON ((932 90, 932 142, 641 142, 641 90, 93...</td>\n",
       "      <td>Cuerpo</td>\n",
       "    </tr>\n",
       "    <tr>\n",
       "      <th>5</th>\n",
       "      <td>POLYGON ((936 162, 936 227, 642 227, 642 162, ...</td>\n",
       "      <td>Cuerpo</td>\n",
       "    </tr>\n",
       "  </tbody>\n",
       "</table>\n",
       "</div>"
      ],
      "text/plain": [
       "                                            poligono      label\n",
       "0   POLYGON ((863 19, 863 78, 12 78, 12 19, 863 19))     Título\n",
       "1  POLYGON ((761 144, 761 159, 642 159, 642 144, ...  Destacado\n",
       "2  POLYGON ((309 92, 309 229, 14 229, 14 92, 309 ...     Cuerpo\n",
       "3  POLYGON ((623 90, 623 228, 323 228, 323 90, 62...     Cuerpo\n",
       "4  POLYGON ((932 90, 932 142, 641 142, 641 90, 93...     Cuerpo\n",
       "5  POLYGON ((936 162, 936 227, 642 227, 642 162, ...     Cuerpo"
      ]
     },
     "execution_count": 124,
     "metadata": {},
     "output_type": "execute_result"
    }
   ],
   "source": [
    "segmentos_articulo"
   ]
  },
  {
   "cell_type": "code",
   "execution_count": 125,
   "id": "673ab1c8-7a62-4aaa-93e0-f8662e0de7fb",
   "metadata": {
    "tags": []
   },
   "outputs": [
    {
     "data": {
      "text/plain": [
       "0          POLYGON ((945 0, 945 252, 0 252, 0 0, 945 0))\n",
       "1       POLYGON ((858 21, 858 78, 15 78, 15 21, 858 21))\n",
       "2       POLYGON ((858 21, 858 78, 15 78, 15 21, 858 21))\n",
       "3       POLYGON ((858 21, 858 78, 15 78, 15 21, 858 21))\n",
       "4       POLYGON ((171 28, 171 78, 15 78, 15 28, 171 28))\n",
       "                             ...                        \n",
       "304    POLYGON ((928 206, 928 225, 642 225, 642 206, ...\n",
       "305    POLYGON ((656 216, 656 222, 642 222, 642 216, ...\n",
       "306    POLYGON ((723 214, 723 225, 660 225, 660 214, ...\n",
       "307    POLYGON ((813 207, 813 214, 808 214, 808 207, ...\n",
       "308    POLYGON ((928 206, 928 218, 854 218, 854 206, ...\n",
       "Name: poligono, Length: 309, dtype: object"
      ]
     },
     "execution_count": 125,
     "metadata": {},
     "output_type": "execute_result"
    }
   ],
   "source": [
    "df_tokens['poligono']"
   ]
  },
  {
   "cell_type": "code",
   "execution_count": 24,
   "id": "0857b978-7d58-4435-9bf7-646c7e53058e",
   "metadata": {
    "tags": []
   },
   "outputs": [
    {
     "ename": "TypeError",
     "evalue": "string indices must be integers",
     "output_type": "error",
     "traceback": [
      "\u001b[0;31m---------------------------------------------------------------------------\u001b[0m",
      "\u001b[0;31mTypeError\u001b[0m                                 Traceback (most recent call last)",
      "\u001b[0;32m/tmp/ipykernel_21467/3393295206.py\u001b[0m in \u001b[0;36m<cell line: 1>\u001b[0;34m()\u001b[0m\n\u001b[0;32m----> 1\u001b[0;31m \u001b[0mget_label_token\u001b[0m\u001b[0;34m(\u001b[0m\u001b[0marticulo\u001b[0m\u001b[0;34m[\u001b[0m\u001b[0;34m'file'\u001b[0m\u001b[0;34m]\u001b[0m\u001b[0;34m,\u001b[0m \u001b[0mdf_tokens\u001b[0m\u001b[0;34m[\u001b[0m\u001b[0;34m'poligono'\u001b[0m\u001b[0;34m]\u001b[0m\u001b[0;34m[\u001b[0m\u001b[0;36m0\u001b[0m\u001b[0;34m]\u001b[0m\u001b[0;34m,\u001b[0m \u001b[0mdf_segmentos\u001b[0m\u001b[0;34m)\u001b[0m\u001b[0;34m\u001b[0m\u001b[0;34m\u001b[0m\u001b[0m\n\u001b[0m",
      "\u001b[0;32m/tmp/ipykernel_21467/467983973.py\u001b[0m in \u001b[0;36mget_label_token\u001b[0;34m(file, poligono_token, df_segmentos)\u001b[0m\n\u001b[1;32m      3\u001b[0m \u001b[0;34m\u001b[0m\u001b[0m\n\u001b[1;32m      4\u001b[0m     \u001b[0;32mfor\u001b[0m \u001b[0msegmento\u001b[0m \u001b[0;32min\u001b[0m \u001b[0msegmentos_articulo\u001b[0m\u001b[0;34m:\u001b[0m\u001b[0;34m\u001b[0m\u001b[0;34m\u001b[0m\u001b[0m\n\u001b[0;32m----> 5\u001b[0;31m         \u001b[0;32mif\u001b[0m \u001b[0mpoligono_token\u001b[0m\u001b[0;34m.\u001b[0m\u001b[0moverlaps\u001b[0m\u001b[0;34m(\u001b[0m\u001b[0msegmento\u001b[0m\u001b[0;34m[\u001b[0m\u001b[0;34m'poligono'\u001b[0m\u001b[0;34m]\u001b[0m\u001b[0;34m)\u001b[0m\u001b[0;34m:\u001b[0m\u001b[0;34m\u001b[0m\u001b[0;34m\u001b[0m\u001b[0m\n\u001b[0m\u001b[1;32m      6\u001b[0m             \u001b[0mprint\u001b[0m\u001b[0;34m(\u001b[0m\u001b[0;34m'Este poligono es un '\u001b[0m\u001b[0;34m,\u001b[0m \u001b[0msegmento\u001b[0m\u001b[0;34m[\u001b[0m\u001b[0;34m'label'\u001b[0m\u001b[0;34m]\u001b[0m\u001b[0;34m)\u001b[0m\u001b[0;34m\u001b[0m\u001b[0;34m\u001b[0m\u001b[0m\n",
      "\u001b[0;31mTypeError\u001b[0m: string indices must be integers"
     ]
    }
   ],
   "source": [
    "get_label_token(articulo['file'], df_tokens['poligono'][0], df_segmentos)"
   ]
  },
  {
   "cell_type": "code",
   "execution_count": null,
   "id": "ecf035c8-15ed-42f3-8243-9f900e5240f5",
   "metadata": {
    "tags": []
   },
   "outputs": [],
   "source": [
    "segmentos_articulo = df_segmentos[df_segmentos['file']==articulo['file']]"
   ]
  },
  {
   "cell_type": "code",
   "execution_count": 34,
   "id": "52b1fafa-f8b6-42bb-b7ca-a90108ab1ba9",
   "metadata": {
    "tags": []
   },
   "outputs": [],
   "source": [
    "poli_1 = df_segmentos['poligono'][0]"
   ]
  },
  {
   "cell_type": "code",
   "execution_count": 36,
   "id": "9988a59e-22e9-473f-b358-f213f8cd74dd",
   "metadata": {
    "tags": []
   },
   "outputs": [],
   "source": [
    "poli_2 = df_tokens['poligono'][0]"
   ]
  },
  {
   "cell_type": "code",
   "execution_count": 59,
   "id": "21c665ac-754b-4f2f-8853-25755be216f0",
   "metadata": {
    "tags": []
   },
   "outputs": [
    {
     "data": {
      "text/plain": [
       "False"
      ]
     },
     "execution_count": 59,
     "metadata": {},
     "output_type": "execute_result"
    }
   ],
   "source": [
    "poli_1.overlaps(poli_2)"
   ]
  },
  {
   "cell_type": "code",
   "execution_count": 76,
   "id": "ff2f57bc-7efc-4749-a875-4591acebdfeb",
   "metadata": {
    "tags": []
   },
   "outputs": [
    {
     "name": "stdout",
     "output_type": "stream",
     "text": [
      "Título\n",
      "Destacado\n",
      "Cuerpo\n",
      "Cuerpo\n",
      "Cuerpo\n",
      "Cuerpo\n"
     ]
    }
   ],
   "source": [
    "for segmento in segmentos_articulo.iterrows():\n",
    "    print(segmento[1]['label'])"
   ]
  },
  {
   "cell_type": "code",
   "execution_count": null,
   "id": "e3d0afcb-984b-438e-aa31-aa870cd9859e",
   "metadata": {},
   "outputs": [],
   "source": []
  }
 ],
 "metadata": {
  "kernelspec": {
   "display_name": "Python 3 (ipykernel)",
   "language": "python",
   "name": "python3"
  },
  "language_info": {
   "codemirror_mode": {
    "name": "ipython",
    "version": 3
   },
   "file_extension": ".py",
   "mimetype": "text/x-python",
   "name": "python",
   "nbconvert_exporter": "python",
   "pygments_lexer": "ipython3",
   "version": "3.10.9"
  }
 },
 "nbformat": 4,
 "nbformat_minor": 5
}
