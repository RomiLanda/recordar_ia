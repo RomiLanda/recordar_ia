{
 "cells": [
  {
   "cell_type": "code",
   "execution_count": null,
   "id": "91f86a50-8c12-47a1-9630-f446d030548b",
   "metadata": {},
   "outputs": [],
   "source": [
    "%matplotlib inline\n",
    "import matplotlib.pyplot as plt\n",
    "import pytesseract\n",
    "import cv2\n",
    "import numpy as np"
   ]
  },
  {
   "cell_type": "code",
   "execution_count": null,
   "id": "ea71a2c7-311c-4c43-a9ba-9e846246b240",
   "metadata": {},
   "outputs": [],
   "source": [
    "#image = \"../input_data/La Razón 1985-06-08 Un informe de....tif\"\n",
    "image = \"../input_data/La Razón 1985-05-14 Declaró el padre....tif\"\n",
    "my_cfg = r\"-l spa --psm 3 --oem 3\"\n",
    "custom_config = r'-c tessedit_char_whitelist=\"AÁBCDEÉFGHIÍJKLMNÑOÓPQRSTUÚVWXYZaábcdeéfghiíjklmnñoópqrstuúvwxyz0123456789 -_/.,:;()\"'\n",
    "my_cfg_2 = r'-l spa --psm 1 --oem 3 -c tessedit_char_whitelist=\"AÁBCDEÉFGHIÍJKLMNÑOÓPQRSTUÚVWXYZaábcdeéfghiíjklmnñoópqrstuúvwxyz0123456789 -_/.,:;()\"'\n",
    "image_cv = cv2.imread(image)\n",
    "plt.imshow(image_cv)"
   ]
  },
  {
   "cell_type": "code",
   "execution_count": null,
   "id": "6e8f0791-01a0-4239-bf44-62dfd3240239",
   "metadata": {},
   "outputs": [],
   "source": [
    "df_data = pytesseract.image_to_data(image_cv, config=custom_config, output_type=pytesseract.Output.DATAFRAME)\n",
    "df_data.info()"
   ]
  },
  {
   "cell_type": "code",
   "execution_count": null,
   "id": "985fe04d-5271-408d-a9f3-d1f18e124960",
   "metadata": {},
   "outputs": [],
   "source": [
    "def blank_filter(df_data):\n",
    "    \"\"\"Devuelve df sin elementos que fueron detectados como espacios. Parámetro: df original.\"\"\"   \n",
    "    mask_not_blank = (df_data['text'].str.strip() != '')\n",
    "    #print('Eliminados ', df_data[~mask_not_blank].shape[0])\n",
    "    #print(df_data[~mask_not_blank])\n",
    "    df_data = df_data[mask_not_blank].dropna(subset=['text'])\n",
    "    return df_data"
   ]
  },
  {
   "cell_type": "code",
   "execution_count": null,
   "id": "f88c1fdd-42e5-4c5d-92e2-d7f2ed9d1ed3",
   "metadata": {},
   "outputs": [],
   "source": [
    "df_data = blank_filter(df_data)"
   ]
  },
  {
   "cell_type": "code",
   "execution_count": null,
   "id": "fc166685-2c60-451c-9fe4-9b711d3d347e",
   "metadata": {},
   "outputs": [],
   "source": [
    "df_data.info()"
   ]
  },
  {
   "cell_type": "code",
   "execution_count": null,
   "id": "b653eea4-22cc-462d-99cf-2cc549353a7c",
   "metadata": {},
   "outputs": [],
   "source": [
    "for token in df_data.iterrows():\n",
    "    x,y,w,h = token[1].left, token[1].top, token[1].width, token[1].height\n",
    "    cv2.rectangle(image_cv, (x, y), (x + w, y + h), (0, 255, 0), 3)\n",
    "\n",
    "#cv2.imwrite(f\"{foto}_out_bloques_img\", imagen_cv)\n",
    "plt.figure(figsize = (50,50))\n",
    "plt.axis('off')\n",
    "plt.imshow(image_cv)"
   ]
  },
  {
   "cell_type": "code",
   "execution_count": null,
   "id": "44f70597-321b-4408-8f0c-97a608fae676",
   "metadata": {},
   "outputs": [],
   "source": [
    "def get_tokens_groups(df_data):\n",
    "    df_data['x2'] = df_data['left'] + df_data['width']\n",
    "    df_data['y2'] = df_data['top'] + df_data['height']\n",
    "\n",
    "    df_data['id_line_group'] = df_data.apply(lambda row: str(row['block_num']) + str(row['par_num']) + str(row['line_num']), axis=1)\n",
    "\n",
    "    ids_line_groups = df_data['id_line_group'].value_counts().keys().to_list()\n",
    "    index_line_groups = [x for x in range(0, len(ids_line_groups))]\n",
    "\n",
    "    df_data['id_line_group'].replace(ids_line_groups, index_line_groups, inplace=True)\n",
    "    return df_data"
   ]
  },
  {
   "cell_type": "code",
   "execution_count": null,
   "id": "577efbb7-6e1c-49b5-b616-0a8dc004a756",
   "metadata": {},
   "outputs": [],
   "source": [
    "groups_boundaries = {}\n",
    "for g in index_line_groups:\n",
    "    group_boundaries = {'x1': 0, 'y1': 0, 'x2': 0, 'y2': 0}\n",
    "    df_g = df_data[df_data.id_line_group == g]\n",
    "    group_boundaries['x1'] = df_g['left'].min()\n",
    "    group_boundaries['y1'] = df_g['top'].min()\n",
    "    group_boundaries['x2'] = df_g['x2'].max()# + df_g.loc[df_g['left'].idxmax()]['width']\n",
    "    group_boundaries['y2'] = df_g['y2'].max()# + df_g.loc[df_g['top'].idxmax()]['height']\n",
    "    groups_boundaries[g] = group_boundaries\n",
    "    "
   ]
  },
  {
   "cell_type": "code",
   "execution_count": null,
   "id": "60c70a7c-c154-4672-8758-ab5d1a0d0089",
   "metadata": {},
   "outputs": [],
   "source": [
    "groups_boundaries"
   ]
  },
  {
   "cell_type": "code",
   "execution_count": null,
   "id": "ac423da7-76ff-4210-9fe7-5928c5622946",
   "metadata": {},
   "outputs": [],
   "source": [
    "for g in groups_boundaries:\n",
    "    x1,y1,x2,y2 = groups_boundaries[g]['x1'], groups_boundaries[g]['y1'], groups_boundaries[g]['x2'], groups_boundaries[g]['y2']\n",
    "    cv2.rectangle(image_cv, (x1, y1), (x2, y2), (255, 0, 0), 2)\n",
    "\n",
    "#cv2.imwrite(f\"{foto}_out_bloques_img\", imagen_cv)\n",
    "plt.figure(figsize = (50,50))\n",
    "plt.axis('off')\n",
    "plt.imshow(image_cv)"
   ]
  },
  {
   "cell_type": "code",
   "execution_count": null,
   "id": "6ad593f9-7d4f-45b6-8f02-73632a2a5722",
   "metadata": {},
   "outputs": [],
   "source": []
  },
  {
   "cell_type": "code",
   "execution_count": null,
   "id": "0ad2b8fe-1600-4ca8-8748-6c3fbdd6ad4b",
   "metadata": {},
   "outputs": [],
   "source": []
  },
  {
   "cell_type": "code",
   "execution_count": null,
   "id": "e5558a63-20c8-4aa7-8c5f-30b74999afc1",
   "metadata": {},
   "outputs": [],
   "source": []
  },
  {
   "cell_type": "code",
   "execution_count": null,
   "id": "48d0e2d5-4ec8-4a31-9804-7dbca16d57a9",
   "metadata": {},
   "outputs": [],
   "source": []
  },
  {
   "cell_type": "code",
   "execution_count": null,
   "id": "83f7598f-e16d-4178-ba38-9b553ede2e12",
   "metadata": {},
   "outputs": [],
   "source": []
  },
  {
   "cell_type": "code",
   "execution_count": null,
   "id": "770844a1-c2d7-4025-a5df-66d652c96552",
   "metadata": {},
   "outputs": [],
   "source": []
  },
  {
   "cell_type": "code",
   "execution_count": null,
   "id": "b96dc37c-0e77-4175-89a6-9894932ea481",
   "metadata": {},
   "outputs": [],
   "source": [
    "df_data.groupby(by=['block_num', 'line_num']).count()"
   ]
  },
  {
   "cell_type": "code",
   "execution_count": null,
   "id": "13281bb8-cb63-4462-8de1-a21ccc57a2da",
   "metadata": {},
   "outputs": [],
   "source": []
  }
 ],
 "metadata": {
  "kernelspec": {
   "display_name": "Python 3 (ipykernel)",
   "language": "python",
   "name": "python3"
  },
  "language_info": {
   "codemirror_mode": {
    "name": "ipython",
    "version": 3
   },
   "file_extension": ".py",
   "mimetype": "text/x-python",
   "name": "python",
   "nbconvert_exporter": "python",
   "pygments_lexer": "ipython3"
  }
 },
 "nbformat": 4,
 "nbformat_minor": 5
}
