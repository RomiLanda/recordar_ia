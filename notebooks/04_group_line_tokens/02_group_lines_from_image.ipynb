{
 "cells": [
  {
   "cell_type": "code",
   "execution_count": null,
   "id": "ef8406b7-83cc-47ba-8266-00b45c65b5ee",
   "metadata": {},
   "outputs": [],
   "source": [
    "%matplotlib inline\n",
    "import matplotlib.pyplot as plt\n",
    "import pytesseract\n",
    "import cv2"
   ]
  },
  {
   "cell_type": "code",
   "execution_count": null,
   "id": "a6e611bc-ec36-4fa9-bf3b-81a98190a6b6",
   "metadata": {},
   "outputs": [],
   "source": [
    "image = \"../input_data/La Razón 1985-06-08 Un informe de....tif\"\n",
    "my_cfg = r\"-l spa --psm 3 --oem 3\"\n",
    "image_cv = cv2.imread(image)\n",
    "plt.imshow(image_cv)"
   ]
  },
  {
   "cell_type": "code",
   "execution_count": null,
   "id": "021bda06-9ab5-4114-bc09-d0381ce05b77",
   "metadata": {},
   "outputs": [],
   "source": [
    "gray = cv2.cvtColor(image_cv, cv2.COLOR_BGR2GRAY)\n",
    "blur = cv2.GaussianBlur(gray, (7,7), 0)\n",
    "thresh = cv2.threshold(blur, 200, 255, cv2.THRESH_BINARY_INV + cv2.THRESH_OTSU)[1]\n",
    "\n",
    "k_size = (7,2) #(5,5)\n",
    "#k_shape = cv2.MORPH_RECT#cv2.MORPH_RECT\n",
    "\n",
    "kernel = cv2.getStructuringElement(cv2.MORPH_RECT, k_size)\n",
    "\n",
    "dilate = cv2.dilate(thresh, kernel, iterations=4)\n",
    "plt.figure(figsize = (50,50))\n",
    "plt.imshow(dilate)"
   ]
  },
  {
   "cell_type": "code",
   "execution_count": null,
   "id": "a5a35482-c38f-4be5-9748-e21114542bfe",
   "metadata": {},
   "outputs": [],
   "source": [
    "# Find contours and draw rectangle\n",
    "cnts = cv2.findContours(dilate, cv2.RETR_LIST, cv2.CHAIN_APPROX_SIMPLE)\n",
    "cnts = cnts[0] if len(cnts) == 2 else cnts[1]\n",
    "for c in cnts:\n",
    "    x,y,w,h = cv2.boundingRect(c)\n",
    "    cv2.rectangle(image_cv, (x, y), (x + w, y + h), (255,0,0), 2)\n",
    "\n",
    "#cv2.imwrite(f\"{foto}_out_bloques_img\", imagen_cv)\n",
    "plt.figure(figsize = (50,50))\n",
    "plt.axis('off')\n",
    "plt.imshow(image_cv)"
   ]
  },
  {
   "cell_type": "code",
   "execution_count": null,
   "id": "76e53446-d72c-497e-9093-bb1a2adc1fbc",
   "metadata": {},
   "outputs": [],
   "source": []
  }
 ],
 "metadata": {
  "kernelspec": {
   "display_name": "Python 3 (ipykernel)",
   "language": "python",
   "name": "python3"
  },
  "language_info": {
   "codemirror_mode": {
    "name": "ipython",
    "version": 3
   },
   "file_extension": ".py",
   "mimetype": "text/x-python",
   "name": "python",
   "nbconvert_exporter": "python",
   "pygments_lexer": "ipython3"
  }
 },
 "nbformat": 4,
 "nbformat_minor": 5
}
